{
 "cells": [
  {
   "cell_type": "code",
   "execution_count": 1,
   "outputs": [
    {
     "name": "stdout",
     "output_type": "stream",
     "text": [
      "pip 22.0.4 from D:\\miniconda\\envs\\base2\\lib\\site-packages\\pip (python 3.7)\n",
      "\n"
     ]
    }
   ],
   "source": [
    "!pip --version"
   ],
   "metadata": {
    "collapsed": false,
    "pycharm": {
     "name": "#%%\n"
    }
   }
  },
  {
   "cell_type": "markdown",
   "source": [
    "# 1.MLP\n",
    "\n",
    "## 1.下载数据和环境\n",
    "\n",
    "colab上使用，其中AAA是目录\n",
    "```\n",
    "def colab_download(proj_name):\n",
    "    import requests\n",
    "\n",
    "    project_name=proj_name\n",
    "\n",
    "    url = f'http://kuroweb.tk:8000/api/v1/pack/wyftp/dataset/{project_name}.tar.gz'\n",
    "    user, password = 'wuying', '123aaa'\n",
    "    resp = requests.get(url, auth=(user, password))\n",
    "    # write to file\n",
    "    with open('download.tar.gz', 'wb') as f:\n",
    "        f.write(resp.content)\n",
    "    import tarfile\n",
    "\n",
    "    # open file\n",
    "    file = tarfile.open('download.tar.gz')\n",
    "    # extracting file\n",
    "    file.extractall('./')\n",
    "    file.close()\n",
    "\n",
    "    import shutil\n",
    "    import os\n",
    "\n",
    "    source_dir = f'./{project_name}'\n",
    "    target_dir = './'\n",
    "\n",
    "    file_names = os.listdir(source_dir)\n",
    "\n",
    "    for file_name in file_names:\n",
    "      try:\n",
    "        shutil.move(os.path.join(source_dir, file_name), target_dir)\n",
    "      except Exception as e:\n",
    "        print(e,'at',file_name)\n",
    "```\n",
    "\n",
    "## 如果是kaggle，要另外加上\n",
    "```\n",
    "import sys\n",
    "sys.path.append(\"/kaggle/working/\")\n",
    "```"
   ],
   "metadata": {
    "collapsed": false,
    "pycharm": {
     "name": "#%% md\n"
    }
   }
  },
  {
   "cell_type": "code",
   "execution_count": 2,
   "outputs": [],
   "source": [
    "def colab_download(proj_name,is_kaggle):\n",
    "    import requests\n",
    "    if is_kaggle:\n",
    "        import sys\n",
    "        sys.path.append(\"/kaggle/working/\")\n",
    "\n",
    "    project_name=proj_name\n",
    "\n",
    "    url = f'http://kuroweb.tk:8000/api/v1/pack/wyftp/dataset/{project_name}.tar.gz'\n",
    "    user, password = 'wuying', '123aaa'\n",
    "    resp = requests.get(url, auth=(user, password))\n",
    "    # write to file\n",
    "    with open('download.tar.gz', 'wb') as f:\n",
    "        f.write(resp.content)\n",
    "    import tarfile\n",
    "\n",
    "    # open file\n",
    "    file = tarfile.open('download.tar.gz')\n",
    "    # extracting file\n",
    "    file.extractall('./')\n",
    "    file.close()\n",
    "\n",
    "    import shutil\n",
    "    import os\n",
    "\n",
    "    source_dir = f'./{project_name}'\n",
    "    target_dir = './'\n",
    "\n",
    "    file_names = os.listdir(source_dir)\n",
    "\n",
    "    for file_name in file_names:\n",
    "        try:\n",
    "            shutil.move(os.path.join(source_dir, file_name), target_dir)\n",
    "        except Exception as e:\n",
    "            print(e,'at',file_name)\n",
    "\n"
   ],
   "metadata": {
    "collapsed": false,
    "pycharm": {
     "name": "#%%\n"
    }
   }
  },
  {
   "cell_type": "code",
   "execution_count": 3,
   "outputs": [],
   "source": [
    "# !pip install -r requirements.txt\n",
    "# colab_download('model',True)"
   ],
   "metadata": {
    "collapsed": false,
    "pycharm": {
     "name": "#%%\n"
    }
   }
  },
  {
   "cell_type": "code",
   "execution_count": 4,
   "outputs": [
    {
     "name": "stderr",
     "output_type": "stream",
     "text": [
      "D:\\miniconda\\envs\\base2\\lib\\site-packages\\tqdm\\auto.py:22: TqdmWarning: IProgress not found. Please update jupyter and ipywidgets. See https://ipywidgets.readthedocs.io/en/stable/user_install.html\n",
      "  from .autonotebook import tqdm as notebook_tqdm\n"
     ]
    }
   ],
   "source": [
    "import seaborn as sns\n",
    "\n",
    "import os.path\n",
    "from general_model.grow_numpy import GrowableNumpyArray\n",
    "from general_model.list_batch_loader import ListBatchLoadDataset\n",
    "from torch.utils.data import Dataset, DataLoader\n",
    "\n",
    "from tool import ml\n",
    "import os\n",
    "from tool import wine_tool\n",
    "import pandas as pd\n",
    "from IPython.display import display\n",
    "from collections import OrderedDict\n",
    "\n",
    "import torch.nn as nn\n",
    "\n",
    "import torch\n",
    "from torch import nn\n",
    "import numpy as np\n",
    "import matplotlib.pyplot as plt\n",
    "\n",
    "import random\n",
    "import torch.nn.functional as F\n",
    "from general_model.layers import LambdaLayer\n",
    "from tool.dbg import dbg\n",
    "from tool import wine_data_loader\n",
    "from model_helper.singlecudatrainer import SingleCudaTrainer\n",
    "from model_helper.single_gpu_dataloader import SingleGpuTensorWrapper\n",
    "from pytorch_classify.params import ClassifyParams\n",
    "import tool.tflite_converter as tflite_converter\n",
    "from pytorch_regression.regression_params import RegressionParams\n",
    "import pytorch_regression\n",
    "import importlib"
   ],
   "metadata": {
    "collapsed": false,
    "pycharm": {
     "name": "#%%\n"
    }
   }
  },
  {
   "cell_type": "code",
   "execution_count": 5,
   "outputs": [],
   "source": [
    "class MlpClassifier(nn.Module):\n",
    "\n",
    "    def __init__(self):\n",
    "        super().__init__()\n",
    "\n",
    "        # self.layers = torch.nn.Sequential(\n",
    "        #     OrderedDict([\n",
    "        #         # layernorm\n",
    "        #         ('layernorm1', nn.LayerNorm([1000])),\n",
    "        #         # ('layernorm1', nn.BatchNorm1d(1000)),\n",
    "        #         (\"h1\", torch.nn.LazyLinear(1000)),\n",
    "        #         (\"act1\", torch.nn.Sigmoid()),\n",
    "        #         # (\"h2\", torch.nn.LazyLinear(1000)),\n",
    "        #         # (\"act2\", torch.nn.Sigmoid()),\n",
    "        #         (\"h4\", torch.nn.LazyLinear(15)),\n",
    "        #         (\"softmax\", torch.nn.Softmax(dim=1))\n",
    "        #     ]\n",
    "        #     )\n",
    "        # )\n",
    "        self.norm = nn.LayerNorm([1000])\n",
    "        self.layer1 = torch.nn.Sequential(\n",
    "            OrderedDict([\n",
    "                # layernorm\n",
    "                # ('layernorm1', nn.LayerNorm([1000])),\n",
    "                # ('batchnorm',nn.BatchNorm1d(1000)),\n",
    "                # reshape to (batch_size, 1, 1000)\n",
    "                ('reshape1', LambdaLayer(lambda x: x.view(x.shape[0], 1, -1))),\n",
    "                # ('layernorm1', nn.BatchNorm1d(1000)),\n",
    "                (\"conv1\", torch.nn.Conv1d(1, 16, kernel_size=3, stride=3, padding=0)),\n",
    "                (\"conv_activation1\", torch.nn.ReLU()),\n",
    "                (\"conv2\", torch.nn.Conv1d(16, 32, kernel_size=3, stride=3, padding=0)),\n",
    "                (\"conv_activation2\", torch.nn.ReLU()),\n",
    "                (\"conv3\", torch.nn.Conv1d(32, 64, kernel_size=3, stride=3, padding=0)),\n",
    "                (\"conv_activation3\", torch.nn.ReLU()),\n",
    "                (\"flat1\", LambdaLayer(lambda x: x.view(x.shape[0], -1))),\n",
    "            ]\n",
    "            )\n",
    "        )\n",
    "\n",
    "        self.layer2 = torch.nn.Sequential(\n",
    "            OrderedDict([\n",
    "                # (\"h1\", torch.nn.Linear(2368,1000)),\n",
    "                (\"h1\", torch.nn.Linear(2368, 300)),\n",
    "                (\"act1\", torch.nn.ReLU()),\n",
    "                # (\"h2\", torch.nn.Linear(1000,512)),\n",
    "                # (\"act2\", torch.nn.ReLU()),\n",
    "                (\"h4\", torch.nn.Linear(300, 15)),\n",
    "                (\"softmax\", torch.nn.Softmax(dim=1))\n",
    "            ])\n",
    "        )\n",
    "\n",
    "    def forward(self, x):\n",
    "        x = self.norm(x)\n",
    "        # dbg(x)\n",
    "        # input('view')\n",
    "        x = self.layer1(x)\n",
    "        # dbg(x.shape)\n",
    "        x = self.layer2(x)\n",
    "        # dbg(x.shape)\n",
    "        return x"
   ],
   "metadata": {
    "collapsed": false,
    "pycharm": {
     "name": "#%%\n"
    }
   }
  },
  {
   "cell_type": "markdown",
   "source": [
    "-----------------------\n",
    "调参\n",
    "\n",
    "由于Python中已经载入的模块不会重新载入，这就会导致一个问题，就是在外部修改的时候变更无法看到\n",
    "\n",
    "网上的解决方案基本上都是使用importlib重载，但是这样有一个坏处，以后inport，都得用两句话来完成，这显然是不合理的。为了解决这个问题，我们把代码全部放到类里面，每次加载只下载模块，对不同的模块分段执行，当需要重新载入模块的时候，将整个Python kernel全部销毁，这样重启的速度依然很快"
   ],
   "metadata": {
    "collapsed": false,
    "pycharm": {
     "name": "#%% md\n"
    }
   }
  },
  {
   "cell_type": "code",
   "execution_count": 6,
   "outputs": [],
   "source": [
    "class ClassifyTrainer:\n",
    "    def __init__(self):\n",
    "\n",
    "        #%%\n",
    "\n",
    "        self.param=ClassifyParams()\n",
    "        self.param.epoch=0\n",
    "\n",
    "        self.x, self.y = wine_data_loader.get_data3(use_onehot=False)\n",
    "        # dbg(self.y)\n",
    "        self.x, self.y, self.x1, self.y1 = wine_data_loader.split(self.x, self.y, 1-self.param.train_test_split)\n",
    "        # use_gpu = False\n",
    "\n",
    "        self.x = SingleGpuTensorWrapper(torch.from_numpy(self.x).float(), use_gpu=self.param.use_gpu)\n",
    "        self.y = SingleGpuTensorWrapper(torch.from_numpy(self.y).long(), use_gpu=self.param.use_gpu)\n",
    "        self.x1 = SingleGpuTensorWrapper(torch.from_numpy(self.x1).float(), use_gpu=self.param.use_gpu)\n",
    "        self.y1 = SingleGpuTensorWrapper(torch.from_numpy(self.y1).long(), use_gpu=self.param.use_gpu)\n",
    "\n",
    "\n",
    "        wine_dataset = ListBatchLoadDataset(self.x.tensor, self.y.tensor)\n",
    "        self.dataloader = DataLoader(wine_dataset, batch_size=self.param.batch_size,\n",
    "                                shuffle=True, num_workers=0)\n",
    "\n",
    "    def train(self):\n",
    "        m = MlpClassifier()\n",
    "\n",
    "        self.trainer = SingleCudaTrainer(m, self.param.use_gpu)\n",
    "\n",
    "        self.optimizer = torch.optim.Adam(trainer.model.parameters(), lr=self.param.lr)  # optimize all cnn parameters\n",
    "\n",
    "        self.loss_func = nn.CrossEntropyLoss()\n",
    "\n",
    "\n",
    "        # dbg(self.x.tensor.device)\n",
    "        # curve = torch.nn.LayerNorm([1000])(self.x.tensor)\n",
    "        # dbg(torch.mean(curve[0]), torch.std_mean(curve[0]))\n",
    "\n",
    "        # dbg('yshape',self.y.tensor.shape)\n",
    "\n",
    "        # epoch = 1\n",
    "        loss_list = []\n",
    "        acc_list = []\n",
    "        # epoch = 12000\n",
    "        epoch = self.param.epoch\n",
    "        for it in range(epoch):\n",
    "            # dbg('before predict:')\n",
    "            self.loss_batch = .0\n",
    "            self.acc_percent = .0\n",
    "            for _, dda in enumerate(self.dataloader):\n",
    "                self.x, self.y = SingleGpuTensorWrapper(dda[0], use_gpu=self.param.use_gpu), SingleGpuTensorWrapper(dda[1], use_gpu=self.param.use_gpu)\n",
    "\n",
    "                predict = trainer.model(self.x.tensor)\n",
    "                # dbg('ok at it:', it)\n",
    "                loss = self.loss_func(predict, self.y.tensor)  # calculate loss\n",
    "\n",
    "\n",
    "                self.optimizer.zero_grad()  # clear gradients for this training step\n",
    "                loss.backward()  # backpropagation, compute gradients\n",
    "                self.optimizer.step()  # apply gradients\n",
    "\n",
    "                self.loss_batch += loss.item()\n",
    "                self.acc_percent += (torch.argmax(predict, dim=1) == self.y.tensor).float().mean()\n",
    "\n",
    "            loss_list.append(self.loss_batch/len(self.dataloader))\n",
    "\n",
    "            if it % 100 == 0:\n",
    "                dbg('iteration:', it, 'loss:', self.loss_batch/len(self.dataloader),)\n",
    "                dbg('acc:', (self.acc_percent/len(self.dataloader)).item())\n",
    "                x1_predict=trainer.model(self.x1.tensor)\n",
    "                val_percent = (torch.argmax(x1_predict, dim=1) == self.y1.tensor).float().mean()\n",
    "                dbg('val acc:', val_percent)\n",
    "                dbg(torch.argmax(x1_predict, dim=1)[:18])\n",
    "                dbg(self.y1.tensor[:18])\n",
    "\n",
    "                plt.plot(loss_list)\n",
    "                plt.show()\n",
    "\n",
    "        dbg('end')\n",
    "        plt.show()\n",
    "\n",
    "        # plt.pause(1)\n",
    "\n",
    "\n",
    "        tflite_converter.torch_model_to_tflite(self.trainer.model)\n",
    "\n"
   ],
   "metadata": {
    "collapsed": false,
    "pycharm": {
     "name": "#%%\n"
    }
   }
  },
  {
   "cell_type": "markdown",
   "source": [
    "# 这个文件到最后不要提交\n",
    "数据上传\n",
    "\n",
    "http://kuroweb.tk:8000/fs/wyftp/dataset/\n",
    "\n",
    "ncdu分析存储空间"
   ],
   "metadata": {
    "collapsed": false
   }
  },
  {
   "cell_type": "code",
   "execution_count": 6,
   "outputs": [],
   "source": [],
   "metadata": {
    "collapsed": false,
    "pycharm": {
     "name": "#%%\n"
    }
   }
  },
  {
   "cell_type": "code",
   "execution_count": 7,
   "outputs": [
    {
     "data": {
      "text/plain": "[{'name': '酒精',\n  'id': '#102',\n  'degree': 75.0,\n  'items': [{'name': '#1', 'degree': 70.5},\n   {'name': '#2', 'degree': 62.04},\n   {'name': '#3', 'degree': 55.84},\n   {'name': '#4', 'degree': 50.25},\n   {'name': '#5', 'degree': 45.23},\n   {'name': '#6', 'degree': 37.99},\n   {'name': '#7', 'degree': 30.39},\n   {'name': '#8', 'degree': 21.27},\n   {'name': '#9', 'degree': 12.76},\n   {'name': '#10', 'degree': 7.66},\n   {'name': '#11', 'degree': 1.53}]},\n {'name': '国之娇子',\n  'id': '#101',\n  'degree': 53.0,\n  'items': [{'name': '#1', 'degree': 50.88},\n   {'name': '#2', 'degree': 47.83},\n   {'name': '#3', 'degree': 44.96},\n   {'name': '#4', 'degree': 41.36},\n   {'name': '#5', 'degree': 37.22},\n   {'name': '#6', 'degree': 33.5},\n   {'name': '#7', 'degree': 26.8},\n   {'name': '#8', 'degree': 19.3},\n   {'name': '#9', 'degree': 11.58},\n   {'name': '#10', 'degree': 6.95}]},\n {'name': '北京二锅头', 'id': '#1', 'degree': 42.0, 'items': []},\n {'name': '威海卫烧锅', 'id': '#2', 'degree': 40.0, 'items': []},\n {'name': '丁香情', 'id': '#3', 'degree': 53.0, 'items': []},\n {'name': '原浆', 'id': '#4', 'degree': 65.0, 'items': []},\n {'name': '北大仓', 'id': '#5', 'degree': 45.0, 'items': []},\n {'name': '苦芥', 'id': '#6', 'degree': 45.0, 'items': []},\n {'name': '五粮情', 'id': '#13', 'degree': 52.0, 'items': []},\n {'name': '景芝白干', 'id': '#7', 'degree': 49.0, 'items': []},\n {'name': '衡水老白干', 'id': '#8', 'degree': 42.0, 'items': []},\n {'name': '老酒壶', 'id': '#9', 'degree': 55.0, 'items': []},\n {'name': '牛栏山陈酿', 'id': '#10', 'degree': 42.0, 'items': []},\n {'name': '杜二酒', 'id': '#11', 'degree': 42.0, 'items': []},\n {'name': '小郎酒', 'id': '#12', 'degree': 45.0, 'items': []},\n {'name': '闷倒驴', 'id': '#14', 'degree': 67.0, 'items': []},\n {'name': '牛栏山二锅头', 'id': '#15', 'degree': 56.0, 'items': []}]"
     },
     "execution_count": 7,
     "metadata": {},
     "output_type": "execute_result"
    }
   ],
   "source": [
    "\n",
    "wine_json=ml.read_json(\"Wine.json\")\n",
    "wine_json"
   ],
   "metadata": {
    "collapsed": false,
    "pycharm": {
     "name": "#%%\n"
    }
   }
  },
  {
   "cell_type": "code",
   "execution_count": 7,
   "outputs": [],
   "source": [],
   "metadata": {
    "collapsed": false,
    "pycharm": {
     "name": "#%%\n"
    }
   }
  },
  {
   "cell_type": "markdown",
   "source": [
    "# data4数据集加载\n",
    "\n",
    "需要设置批处理大小\n",
    "\n",
    "----------------\n",
    "调参"
   ],
   "metadata": {
    "collapsed": false,
    "pycharm": {
     "name": "#%% md\n"
    }
   }
  },
  {
   "cell_type": "code",
   "execution_count": 45,
   "outputs": [],
   "source": [
    "\n",
    "class MlpRegression(nn.Module):\n",
    "\n",
    "    def __init__(self,param):\n",
    "        super().__init__()\n",
    "\n",
    "        self.norm = nn.LayerNorm([1000])\n",
    "\n",
    "        # 一维卷积神经网络\n",
    "        # layers=[\n",
    "        #     LambdaLayer(lambda x: x.view(x.shape[0], 1, -1)),\n",
    "        # ]\n",
    "        #\n",
    "        # layers+=[\n",
    "        #     nn.Conv1d(1, param.cnn_kernels[0], param.cnn_size, stride=param.cnn_stride),\n",
    "        #     param.activation,\n",
    "        #     nn.AvgPool1d(param.pool_size),\n",
    "        #     # torch.nn.Dropout(0.5),\n",
    "        # ]\n",
    "        #\n",
    "        # for idx,cnn in enumerate(param.cnn_kernels[1:]):\n",
    "        #     layers+=[torch.nn.Conv1d(param.cnn_kernels[idx], cnn, kernel_size=param.cnn_size, stride=param.cnn_stride, padding=0),\n",
    "        #     torch.nn.AvgPool1d(kernel_size=param.pool_size, stride=param.pool_size),\n",
    "        #     param.activation,\n",
    "        #     # torch.nn.Dropout(0.5),\n",
    "        #  ]\n",
    "        #\n",
    "        # layers+=[LambdaLayer(lambda x: x.view(x.shape[0], -1)),]\n",
    "        #\n",
    "        # self.layer1 = torch.nn.Sequential(*layers)\n",
    "\n",
    "        self.layer1=nn.Sequential(\n",
    "            nn.Linear(1000,5000),\n",
    "            param.activation,\n",
    "            nn.Linear(5000,1),\n",
    "        )\n",
    "\n",
    "        # 最后的输出层,不要用lazy，会影响性能和精度训练速度\n",
    "        self.layer2 = torch.nn.Sequential(\n",
    "            OrderedDict([\n",
    "                (\"h1\", torch.nn.Linear(104, 10)),\n",
    "                (\"act1\", param.activation),\n",
    "                # (\"h2\", torch.nn.Linear(1000,512)),\n",
    "                # (\"act2\", torch.nn.ReLU()),\n",
    "                (\"h4\", torch.nn.Linear(10, 1)),\n",
    "            ])\n",
    "        )\n",
    "\n",
    "    def forward(self, x):\n",
    "        x = self.norm(x)\n",
    "        x = self.layer1(x)\n",
    "        # dbg(x.shape)\n",
    "        # x = self.layer2(x)\n",
    "        # dbg(x.shape)\n",
    "        return x"
   ],
   "metadata": {
    "collapsed": false,
    "pycharm": {
     "name": "#%%\n"
    }
   }
  },
  {
   "cell_type": "code",
   "execution_count": 30,
   "outputs": [],
   "source": [
    "class RegressionTrainer:\n",
    "    def __init__(self):\n",
    "        self.param=RegressionParams()\n",
    "        self.param.batch_size=64\n",
    "        self.param.epoch=1\n",
    "        self.param.lr=1e-9\n",
    "        self.param.cnn_stride=1\n",
    "        self.param.cnn_size=3\n",
    "        self.param.pool_size=2\n",
    "        self.param.lr_decay=0.99\n",
    "\n",
    "\n",
    "    def load(self):\n",
    "\n",
    "        self.x = GrowableNumpyArray(dtype=np.float,grow_speed=16)\n",
    "        self.y = GrowableNumpyArray(dtype=np.float,grow_speed=16)\n",
    "\n",
    "        for wine in wine_json:\n",
    "            base_wine_path='data4/'+wine['id']\n",
    "            dbg(wine['name'])\n",
    "            if not os.path.exists(base_wine_path):\n",
    "                dbg('not exists:', base_wine_path)\n",
    "                continue\n",
    "            # load data\n",
    "            dirs = ml.getAllFiles(f'{base_wine_path}')\n",
    "            for d in dirs:\n",
    "                path=d\n",
    "                files = ml.getAllFileRecursively(path)\n",
    "                for f in files:\n",
    "                    self.x.update(wine_tool.col2data_to_float_list(f))\n",
    "                    self.y.add(wine['degree'])\n",
    "                    # self.x = np.append(self.x, wine_tool.col2data_to_float_list(f))\n",
    "                    # self.y = np.append(self.y, wine['degree'])\n",
    "\n",
    "            # load item_data\n",
    "            for wine_item in wine['items']:\n",
    "                sub_wine_path=base_wine_path+'_'+wine_item['name']\n",
    "\n",
    "                dirs = ml.getAllFiles(f'{sub_wine_path}')\n",
    "                dbg(wine_item)\n",
    "                for d in dirs:\n",
    "                    path=d\n",
    "                    files = ml.getAllFileRecursively(path)\n",
    "                    for f in files[:100]:\n",
    "                        self.x.update(wine_tool.col2data_to_float_list(f))\n",
    "                        self.y.add(wine_item['degree'])\n",
    "                        # self.x = np.append(self.x, wine_tool.col2data_to_float_list(f))\n",
    "                        # self.y = np.append(self.y, wine_item['degree'])\n",
    "\n",
    "\n",
    "\n",
    "\n",
    "        self.x = self.x.finalize()\n",
    "        self.x = self.x.reshape((-1, 1000))\n",
    "\n",
    "\n",
    "        self.y=self.y.finalize()\n",
    "\n",
    "\n",
    "        plt.plot(sorted(self.y))\n",
    "        plt.plot(self.y)\n",
    "\n",
    "\n",
    "        # normalize\n",
    "\n",
    "        self.y=self.y/100\n",
    "\n",
    "\n",
    "        layer_normed_x=torch.nn.LayerNorm([1000])(torch.tensor(self.x,dtype=torch.float))\n",
    "        i=0\n",
    "        while i<3:\n",
    "            indice=i\n",
    "            plt.plot(layer_normed_x[indice].detach().numpy(),label=self.y[indice])\n",
    "            plt.legend()\n",
    "            plt.show()\n",
    "            i+=1\n",
    "\n",
    "        self.numpy_x,self.numpy_y,self.numpy_x1,self.numpy_y1=wine_data_loader.split(self.x,self.y,1-self.param.train_test_split)\n",
    "\n",
    "\n",
    "    def create_dataloader_from_loaded_numpy(self):\n",
    "        self.x=SingleGpuTensorWrapper(torch.from_numpy(self.numpy_x).float(),self.param.use_gpu)\n",
    "        self.y=SingleGpuTensorWrapper(torch.from_numpy(self.numpy_y).float(),self.param.use_gpu)\n",
    "        self.x1=SingleGpuTensorWrapper(torch.from_numpy(self.numpy_x1).float(),self.param.use_gpu)\n",
    "        self.y1=SingleGpuTensorWrapper(torch.from_numpy(self.numpy_y1).float(),self.param.use_gpu)\n",
    "\n",
    "        wine_dataset = ListBatchLoadDataset(self.x.tensor, self.y.tensor)\n",
    "        self.dataloader = DataLoader(wine_dataset, batch_size=self.param.batch_size,\n",
    "                                shuffle=True, num_workers=0)\n",
    "\n",
    "    def load_model_and_train(self):\n",
    "\n",
    "        dbg(self.x.tensor.shape)\n",
    "        dbg(MlpRegression(self.param))\n",
    "\n",
    "\n",
    "        trainer=SingleCudaTrainer(MlpRegression(self.param),use_gpu=self.param.use_gpu)\n",
    "\n",
    "        optimizer = torch.optim.Adam(trainer.model.parameters(), lr=self.param.lr)  # optimize all cnn parameters\n",
    "\n",
    "        loss_func = nn.MSELoss()\n",
    "        # loss_func = nn.L1Loss()\n",
    "\n",
    "        # epoch = 1\n",
    "        loss_list = []\n",
    "        acc_list = []\n",
    "        # epoch = 12000\n",
    "        epoch = self.param.epoch\n",
    "        for it in range(epoch):\n",
    "            # dbg('before predict:')\n",
    "            loss_batch = .0\n",
    "\n",
    "            for idx, dda in enumerate(self.dataloader):\n",
    "                x, y = SingleGpuTensorWrapper(dda[0], use_gpu=self.param.use_gpu), SingleGpuTensorWrapper(dda[1], use_gpu=self.param.use_gpu)\n",
    "\n",
    "                predict = trainer.model(x.tensor)\n",
    "                # dbg('ok at it:', it)\n",
    "                loss = loss_func(predict, y.tensor)  # calculate loss\n",
    "\n",
    "\n",
    "                optimizer.zero_grad()  # clear gradients for this training step\n",
    "                loss.backward()  # backpropagation, compute gradients\n",
    "                optimizer.step()  # apply gradients\n",
    "\n",
    "                loss_batch += loss.item()\n",
    "                # dbg('go',idx)\n",
    "\n",
    "            loss_list.append(loss_batch/len(self.dataloader))\n",
    "\n",
    "            if it % 50 == 0:\n",
    "                # https://stackoverflow.com/questions/48324152/pytorch-how-to-change-the-learning-rate-of-an-optimizer-at-any-given-moment-no\n",
    "                # for g in optimizer.param_groups:\n",
    "                #     g['lr'] = ml.read_json('pytorch_regression/real_time_config.json')['lr']\n",
    "                    # g['lr'] = self.param.lr_decay*g['lr']\n",
    "\n",
    "                dbg('lr -> to:', optimizer.param_groups[0]['lr'])\n",
    "                dbg('iteration:', it, 'loss:', loss_batch/len(self.dataloader),)\n",
    "\n",
    "                # predict\n",
    "                # predict = trainer.model(x1.tensor)\n",
    "\n",
    "                # 用最后一个batch测试\n",
    "\n",
    "                # loss\n",
    "                plt.plot(loss_list[10:] if len(loss_list) > 10 else loss_list, label='loss')\n",
    "                plt.legend(loc='upper right')\n",
    "                plt.show()\n",
    "                # plt.plot((predict.reshape(-1,)-y.tensor).detach().cpu().numpy(),'r.')\n",
    "                # plt.show()\n",
    "                # plt.plot(predict.detach().cpu().numpy(), 'r.')\n",
    "                # plt.plot(y1.tensor.detach().cpu().numpy(),'b.')\n",
    "\n",
    "                dict = {'predict' : predict[-5:,0].detach().cpu().numpy(),\n",
    "                        'truth' : y.tensor[-5:].detach().cpu().numpy(),\n",
    "                        'sub': (predict[-5:,0].detach().cpu().numpy()-y.tensor[-5:].detach().cpu().numpy()),\n",
    "                        }\n",
    "                df = pd.DataFrame(dict)\n",
    "\n",
    "                # displaying the DataFrame\n",
    "                display(df.T)\n",
    "\n",
    "                for g in optimizer.param_groups:\n",
    "                    g['lr'] = self.param.lr_decay*g['lr']\n",
    "\n",
    "                dbg('lr reduce to:', optimizer.param_groups[0]['lr'])\n",
    "                dbg('iteration:', it, 'loss:', loss_batch/len(self.dataloader),)\n",
    "\n",
    "        dbg('end')\n",
    "        plt.show()"
   ],
   "metadata": {
    "collapsed": false,
    "pycharm": {
     "name": "#%%\n"
    }
   }
  },
  {
   "cell_type": "markdown",
   "source": [
    "# best loss:\n",
    "        0.03024327833290127\n",
    "\n",
    "        0.030054485214570763\n"
   ],
   "metadata": {
    "collapsed": false
   }
  },
  {
   "cell_type": "code",
   "execution_count": 31,
   "outputs": [
    {
     "name": "stderr",
     "output_type": "stream",
     "text": [
      "D:\\miniconda\\envs\\base2\\lib\\site-packages\\ipykernel_launcher.py:15: DeprecationWarning: `np.float` is a deprecated alias for the builtin `float`. To silence this warning, use `float` by itself. Doing this will not modify any behavior and is safe. If you specifically wanted the numpy scalar type, use `np.float64` here.\n",
      "Deprecated in NumPy 1.20; for more details and guidance: https://numpy.org/devdocs/release/1.20.0-notes.html#deprecations\n",
      "  from ipykernel import kernelapp as app\n",
      "D:\\miniconda\\envs\\base2\\lib\\site-packages\\ipykernel_launcher.py:16: DeprecationWarning: `np.float` is a deprecated alias for the builtin `float`. To silence this warning, use `float` by itself. Doing this will not modify any behavior and is safe. If you specifically wanted the numpy scalar type, use `np.float64` here.\n",
      "Deprecated in NumPy 1.20; for more details and guidance: https://numpy.org/devdocs/release/1.20.0-notes.html#deprecations\n",
      "  app.launch_new_instance()\n"
     ]
    },
    {
     "name": "stdout",
     "output_type": "stream",
     "text": [
      "酒精\n",
      "{'name': '#1', 'degree': 70.5}\n",
      "{'name': '#2', 'degree': 62.04}\n",
      "{'name': '#3', 'degree': 55.84}\n",
      "{'name': '#4', 'degree': 50.25}\n",
      "{'name': '#5', 'degree': 45.23}\n",
      "{'name': '#6', 'degree': 37.99}\n",
      "{'name': '#7', 'degree': 30.39}\n",
      "{'name': '#8', 'degree': 21.27}\n",
      "{'name': '#9', 'degree': 12.76}\n",
      "{'name': '#10', 'degree': 7.66}\n",
      "{'name': '#11', 'degree': 1.53}\n",
      "国之娇子\n",
      "{'name': '#1', 'degree': 50.88}\n",
      "{'name': '#2', 'degree': 47.83}\n",
      "{'name': '#3', 'degree': 44.96}\n",
      "{'name': '#4', 'degree': 41.36}\n",
      "{'name': '#5', 'degree': 37.22}\n",
      "{'name': '#6', 'degree': 33.5}\n",
      "{'name': '#7', 'degree': 26.8}\n",
      "{'name': '#8', 'degree': 19.3}\n",
      "{'name': '#9', 'degree': 11.58}\n",
      "{'name': '#10', 'degree': 6.95}\n",
      "北京二锅头\n",
      "威海卫烧锅\n",
      "丁香情\n",
      "原浆\n",
      "北大仓\n",
      "苦芥\n",
      "五粮情\n",
      "not exists: data4/#13\n",
      "景芝白干\n",
      "衡水老白干\n",
      "老酒壶\n",
      "牛栏山陈酿\n",
      "杜二酒\n",
      "小郎酒\n",
      "闷倒驴\n",
      "not exists: data4/#14\n",
      "牛栏山二锅头\n",
      "not exists: data4/#15\n"
     ]
    },
    {
     "data": {
      "text/plain": "<Figure size 432x288 with 1 Axes>",
      "image/png": "[encoded data removed]"
     },
     "metadata": {
      "needs_background": "light"
     },
     "output_type": "display_data"
    },
    {
     "data": {
      "text/plain": "<Figure size 432x288 with 1 Axes>",
      "image/png": "[encoded data removed]"
     },
     "metadata": {
      "needs_background": "light"
     },
     "output_type": "display_data"
    },
    {
     "data": {
      "text/plain": "<Figure size 432x288 with 1 Axes>",
      "image/png": "[encoded data removed]"
     },
     "metadata": {
      "needs_background": "light"
     },
     "output_type": "display_data"
    }
   ],
   "source": [
    "\n",
    "trainer=RegressionTrainer()\n",
    "trainer.load()"
   ],
   "metadata": {
    "collapsed": false,
    "pycharm": {
     "name": "#%%\n"
    }
   }
  },
  {
   "cell_type": "code",
   "execution_count": 32,
   "outputs": [],
   "source": [
    "trainer.param.batch_size=1000\n",
    "trainer.create_dataloader_from_loaded_numpy()"
   ],
   "metadata": {
    "collapsed": false,
    "pycharm": {
     "name": "#%%\n"
    }
   }
  },
  {
   "cell_type": "code",
   "execution_count": 19,
   "outputs": [
    {
     "name": "stderr",
     "output_type": "stream",
     "text": [
      "D:\\miniconda\\envs\\base2\\lib\\site-packages\\seaborn\\_decorators.py:43: FutureWarning: Pass the following variables as keyword args: x, y. From version 0.12, the only valid positional argument will be `data`, and passing other arguments without an explicit keyword will result in an error or misinterpretation.\n",
      "  FutureWarning\n"
     ]
    },
    {
     "data": {
      "text/plain": "<AxesSubplot:>"
     },
     "execution_count": 19,
     "metadata": {},
     "output_type": "execute_result"
    },
    {
     "data": {
      "text/plain": "<Figure size 432x288 with 1 Axes>",
      "image/png": "[encoded data removed]"
     },
     "metadata": {
      "needs_background": "light"
     },
     "output_type": "display_data"
    }
   ],
   "source": [
    "# sns.barplot(np.max(trainer.x.tensor.detach().cpu().numpy(),axis=1)//5000,trainer.y.tensor.detach().cpu().numpy()//0.3)"
   ],
   "metadata": {
    "collapsed": false,
    "pycharm": {
     "name": "#%%\n"
    }
   }
  },
  {
   "cell_type": "code",
   "execution_count": 46,
   "outputs": [
    {
     "name": "stdout",
     "output_type": "stream",
     "text": [
      "torch.Size([2100, 1000])\n",
      "MlpRegression(\n",
      "  (norm): LayerNorm((1000,), eps=1e-05, elementwise_affine=True)\n",
      "  (layer1): Sequential(\n",
      "    (0): Linear(in_features=1000, out_features=5000, bias=True)\n",
      "    (1): Tanh()\n",
      "    (2): Linear(in_features=5000, out_features=1, bias=True)\n",
      "  )\n",
      "  (layer2): Sequential(\n",
      "    (h1): Linear(in_features=104, out_features=10, bias=True)\n",
      "    (act1): Tanh()\n",
      "    (h4): Linear(in_features=10, out_features=1, bias=True)\n",
      "  )\n",
      ")\n"
     ]
    },
    {
     "name": "stderr",
     "output_type": "stream",
     "text": [
      "D:\\miniconda\\envs\\base2\\lib\\site-packages\\torch\\nn\\modules\\loss.py:528: UserWarning: Using a target size (torch.Size([1000])) that is different to the input size (torch.Size([1000, 1])). This will likely lead to incorrect results due to broadcasting. Please ensure they have the same size.\n",
      "  return F.mse_loss(input, target, reduction=self.reduction)\n",
      "D:\\miniconda\\envs\\base2\\lib\\site-packages\\torch\\nn\\modules\\loss.py:528: UserWarning: Using a target size (torch.Size([100])) that is different to the input size (torch.Size([100, 1])). This will likely lead to incorrect results due to broadcasting. Please ensure they have the same size.\n",
      "  return F.mse_loss(input, target, reduction=self.reduction)\n"
     ]
    },
    {
     "name": "stdout",
     "output_type": "stream",
     "text": [
      "lr -> to: 1e-06\n",
      "iteration: 0 loss: 0.7286077340443929\n"
     ]
    },
    {
     "data": {
      "text/plain": "<Figure size 432x288 with 1 Axes>",
      "image/png": "[encoded data removed]"
     },
     "metadata": {
      "needs_background": "light"
     },
     "output_type": "display_data"
    },
    {
     "data": {
      "text/plain": "                0        1         2         3         4\npredict -0.421064 -0.44921 -0.477605 -0.443183 -0.437027\ntruth    0.372200  0.65000  0.490000  0.650000  0.650000\nsub     -0.793265 -1.09921 -0.967605 -1.093183 -1.087027",
      "text/html": "<div>\n<style scoped>\n    .dataframe tbody tr th:only-of-type {\n        vertical-align: middle;\n    }\n\n    .dataframe tbody tr th {\n        vertical-align: top;\n    }\n\n    .dataframe thead th {\n        text-align: right;\n    }\n</style>\n<table border=\"1\" class=\"dataframe\">\n  <thead>\n    <tr style=\"text-align: right;\">\n      <th></th>\n      <th>0</th>\n      <th>1</th>\n      <th>2</th>\n      <th>3</th>\n      <th>4</th>\n    </tr>\n  </thead>\n  <tbody>\n    <tr>\n      <th>predict</th>\n      <td>-0.421064</td>\n      <td>-0.44921</td>\n      <td>-0.477605</td>\n      <td>-0.443183</td>\n      <td>-0.437027</td>\n    </tr>\n    <tr>\n      <th>truth</th>\n      <td>0.372200</td>\n      <td>0.65000</td>\n      <td>0.490000</td>\n      <td>0.650000</td>\n      <td>0.650000</td>\n    </tr>\n    <tr>\n      <th>sub</th>\n      <td>-0.793265</td>\n      <td>-1.09921</td>\n      <td>-0.967605</td>\n      <td>-1.093183</td>\n      <td>-1.087027</td>\n    </tr>\n  </tbody>\n</table>\n</div>"
     },
     "metadata": {},
     "output_type": "display_data"
    },
    {
     "name": "stdout",
     "output_type": "stream",
     "text": [
      "lr reduce to: 9.9e-07\n",
      "iteration: 0 loss: 0.7286077340443929\n"
     ]
    },
    {
     "name": "stderr",
     "output_type": "stream",
     "text": [
      "D:\\miniconda\\envs\\base2\\lib\\site-packages\\torch\\nn\\modules\\loss.py:528: UserWarning: Using a target size (torch.Size([1000])) that is different to the input size (torch.Size([1000, 1])). This will likely lead to incorrect results due to broadcasting. Please ensure they have the same size.\n",
      "  return F.mse_loss(input, target, reduction=self.reduction)\n",
      "D:\\miniconda\\envs\\base2\\lib\\site-packages\\torch\\nn\\modules\\loss.py:528: UserWarning: Using a target size (torch.Size([100])) that is different to the input size (torch.Size([100, 1])). This will likely lead to incorrect results due to broadcasting. Please ensure they have the same size.\n",
      "  return F.mse_loss(input, target, reduction=self.reduction)\n"
     ]
    },
    {
     "name": "stdout",
     "output_type": "stream",
     "text": [
      "lr -> to: 9.9e-07\n",
      "iteration: 50 loss: 0.033148925130565964\n"
     ]
    },
    {
     "data": {
      "text/plain": "<Figure size 432x288 with 1 Axes>",
      "image/png": "[encoded data removed]"
     },
     "metadata": {
      "needs_background": "light"
     },
     "output_type": "display_data"
    },
    {
     "data": {
      "text/plain": "                0         1         2         3         4\npredict  0.450168  0.287039  0.463556  0.388082  0.410553\ntruth    0.303900  0.400000  0.372200  0.303900  0.115800\nsub      0.146268 -0.112961  0.091356  0.084182  0.294753",
      "text/html": "<div>\n<style scoped>\n    .dataframe tbody tr th:only-of-type {\n        vertical-align: middle;\n    }\n\n    .dataframe tbody tr th {\n        vertical-align: top;\n    }\n\n    .dataframe thead th {\n        text-align: right;\n    }\n</style>\n<table border=\"1\" class=\"dataframe\">\n  <thead>\n    <tr style=\"text-align: right;\">\n      <th></th>\n      <th>0</th>\n      <th>1</th>\n      <th>2</th>\n      <th>3</th>\n      <th>4</th>\n    </tr>\n  </thead>\n  <tbody>\n    <tr>\n      <th>predict</th>\n      <td>0.450168</td>\n      <td>0.287039</td>\n      <td>0.463556</td>\n      <td>0.388082</td>\n      <td>0.410553</td>\n    </tr>\n    <tr>\n      <th>truth</th>\n      <td>0.303900</td>\n      <td>0.400000</td>\n      <td>0.372200</td>\n      <td>0.303900</td>\n      <td>0.115800</td>\n    </tr>\n    <tr>\n      <th>sub</th>\n      <td>0.146268</td>\n      <td>-0.112961</td>\n      <td>0.091356</td>\n      <td>0.084182</td>\n      <td>0.294753</td>\n    </tr>\n  </tbody>\n</table>\n</div>"
     },
     "metadata": {},
     "output_type": "display_data"
    },
    {
     "name": "stdout",
     "output_type": "stream",
     "text": [
      "lr reduce to: 9.801e-07\n",
      "iteration: 50 loss: 0.033148925130565964\n"
     ]
    },
    {
     "name": "stderr",
     "output_type": "stream",
     "text": [
      "D:\\miniconda\\envs\\base2\\lib\\site-packages\\torch\\nn\\modules\\loss.py:528: UserWarning: Using a target size (torch.Size([1000])) that is different to the input size (torch.Size([1000, 1])). This will likely lead to incorrect results due to broadcasting. Please ensure they have the same size.\n",
      "  return F.mse_loss(input, target, reduction=self.reduction)\n",
      "D:\\miniconda\\envs\\base2\\lib\\site-packages\\torch\\nn\\modules\\loss.py:528: UserWarning: Using a target size (torch.Size([100])) that is different to the input size (torch.Size([100, 1])). This will likely lead to incorrect results due to broadcasting. Please ensure they have the same size.\n",
      "  return F.mse_loss(input, target, reduction=self.reduction)\n"
     ]
    },
    {
     "name": "stdout",
     "output_type": "stream",
     "text": [
      "lr -> to: 9.801e-07\n",
      "iteration: 100 loss: 0.03530144815643629\n"
     ]
    },
    {
     "data": {
      "text/plain": "<Figure size 432x288 with 1 Axes>",
      "image/png": "[encoded data removed]"
     },
     "metadata": {
      "needs_background": "light"
     },
     "output_type": "display_data"
    },
    {
     "data": {
      "text/plain": "               0         1         2         3         4\npredict  0.43668  0.374306  0.347514  0.422479  0.391239\ntruth    0.19300  0.490000  0.750000  0.413600  0.620400\nsub      0.24368 -0.115694 -0.402486  0.008879 -0.229161",
      "text/html": "<div>\n<style scoped>\n    .dataframe tbody tr th:only-of-type {\n        vertical-align: middle;\n    }\n\n    .dataframe tbody tr th {\n        vertical-align: top;\n    }\n\n    .dataframe thead th {\n        text-align: right;\n    }\n</style>\n<table border=\"1\" class=\"dataframe\">\n  <thead>\n    <tr style=\"text-align: right;\">\n      <th></th>\n      <th>0</th>\n      <th>1</th>\n      <th>2</th>\n      <th>3</th>\n      <th>4</th>\n    </tr>\n  </thead>\n  <tbody>\n    <tr>\n      <th>predict</th>\n      <td>0.43668</td>\n      <td>0.374306</td>\n      <td>0.347514</td>\n      <td>0.422479</td>\n      <td>0.391239</td>\n    </tr>\n    <tr>\n      <th>truth</th>\n      <td>0.19300</td>\n      <td>0.490000</td>\n      <td>0.750000</td>\n      <td>0.413600</td>\n      <td>0.620400</td>\n    </tr>\n    <tr>\n      <th>sub</th>\n      <td>0.24368</td>\n      <td>-0.115694</td>\n      <td>-0.402486</td>\n      <td>0.008879</td>\n      <td>-0.229161</td>\n    </tr>\n  </tbody>\n</table>\n</div>"
     },
     "metadata": {},
     "output_type": "display_data"
    },
    {
     "name": "stdout",
     "output_type": "stream",
     "text": [
      "lr reduce to: 9.70299e-07\n",
      "iteration: 100 loss: 0.03530144815643629\n"
     ]
    },
    {
     "name": "stderr",
     "output_type": "stream",
     "text": [
      "D:\\miniconda\\envs\\base2\\lib\\site-packages\\torch\\nn\\modules\\loss.py:528: UserWarning: Using a target size (torch.Size([1000])) that is different to the input size (torch.Size([1000, 1])). This will likely lead to incorrect results due to broadcasting. Please ensure they have the same size.\n",
      "  return F.mse_loss(input, target, reduction=self.reduction)\n",
      "D:\\miniconda\\envs\\base2\\lib\\site-packages\\torch\\nn\\modules\\loss.py:528: UserWarning: Using a target size (torch.Size([100])) that is different to the input size (torch.Size([100, 1])). This will likely lead to incorrect results due to broadcasting. Please ensure they have the same size.\n",
      "  return F.mse_loss(input, target, reduction=self.reduction)\n"
     ]
    },
    {
     "name": "stdout",
     "output_type": "stream",
     "text": [
      "lr -> to: 9.70299e-07\n",
      "iteration: 150 loss: 0.03057333268225193\n"
     ]
    },
    {
     "data": {
      "text/plain": "<Figure size 432x288 with 1 Axes>",
      "image/png": "[encoded data removed]"
     },
     "metadata": {
      "needs_background": "light"
     },
     "output_type": "display_data"
    },
    {
     "data": {
      "text/plain": "                0         1         2         3         4\npredict  0.406056  0.404135  0.410107  0.377918  0.460915\ntruth    0.193000  0.193000  0.450000  0.502500  0.420000\nsub      0.213056  0.211135 -0.039893 -0.124582  0.040915",
      "text/html": "<div>\n<style scoped>\n    .dataframe tbody tr th:only-of-type {\n        vertical-align: middle;\n    }\n\n    .dataframe tbody tr th {\n        vertical-align: top;\n    }\n\n    .dataframe thead th {\n        text-align: right;\n    }\n</style>\n<table border=\"1\" class=\"dataframe\">\n  <thead>\n    <tr style=\"text-align: right;\">\n      <th></th>\n      <th>0</th>\n      <th>1</th>\n      <th>2</th>\n      <th>3</th>\n      <th>4</th>\n    </tr>\n  </thead>\n  <tbody>\n    <tr>\n      <th>predict</th>\n      <td>0.406056</td>\n      <td>0.404135</td>\n      <td>0.410107</td>\n      <td>0.377918</td>\n      <td>0.460915</td>\n    </tr>\n    <tr>\n      <th>truth</th>\n      <td>0.193000</td>\n      <td>0.193000</td>\n      <td>0.450000</td>\n      <td>0.502500</td>\n      <td>0.420000</td>\n    </tr>\n    <tr>\n      <th>sub</th>\n      <td>0.213056</td>\n      <td>0.211135</td>\n      <td>-0.039893</td>\n      <td>-0.124582</td>\n      <td>0.040915</td>\n    </tr>\n  </tbody>\n</table>\n</div>"
     },
     "metadata": {},
     "output_type": "display_data"
    },
    {
     "name": "stdout",
     "output_type": "stream",
     "text": [
      "lr reduce to: 9.6059601e-07\n",
      "iteration: 150 loss: 0.03057333268225193\n"
     ]
    },
    {
     "name": "stderr",
     "output_type": "stream",
     "text": [
      "D:\\miniconda\\envs\\base2\\lib\\site-packages\\torch\\nn\\modules\\loss.py:528: UserWarning: Using a target size (torch.Size([1000])) that is different to the input size (torch.Size([1000, 1])). This will likely lead to incorrect results due to broadcasting. Please ensure they have the same size.\n",
      "  return F.mse_loss(input, target, reduction=self.reduction)\n",
      "D:\\miniconda\\envs\\base2\\lib\\site-packages\\torch\\nn\\modules\\loss.py:528: UserWarning: Using a target size (torch.Size([100])) that is different to the input size (torch.Size([100, 1])). This will likely lead to incorrect results due to broadcasting. Please ensure they have the same size.\n",
      "  return F.mse_loss(input, target, reduction=self.reduction)\n"
     ]
    },
    {
     "name": "stdout",
     "output_type": "stream",
     "text": [
      "lr -> to: 9.6059601e-07\n",
      "iteration: 200 loss: 0.031148778274655342\n"
     ]
    },
    {
     "data": {
      "text/plain": "<Figure size 432x288 with 1 Axes>",
      "image/png": "[encoded data removed]"
     },
     "metadata": {
      "needs_background": "light"
     },
     "output_type": "display_data"
    },
    {
     "data": {
      "text/plain": "                0         1         2        3         4\npredict  0.400011  0.406331  0.415743  0.40004  0.416338\ntruth    0.530000  0.372200  0.268000  0.42000  0.420000\nsub     -0.129989  0.034131  0.147743 -0.01996 -0.003662",
      "text/html": "<div>\n<style scoped>\n    .dataframe tbody tr th:only-of-type {\n        vertical-align: middle;\n    }\n\n    .dataframe tbody tr th {\n        vertical-align: top;\n    }\n\n    .dataframe thead th {\n        text-align: right;\n    }\n</style>\n<table border=\"1\" class=\"dataframe\">\n  <thead>\n    <tr style=\"text-align: right;\">\n      <th></th>\n      <th>0</th>\n      <th>1</th>\n      <th>2</th>\n      <th>3</th>\n      <th>4</th>\n    </tr>\n  </thead>\n  <tbody>\n    <tr>\n      <th>predict</th>\n      <td>0.400011</td>\n      <td>0.406331</td>\n      <td>0.415743</td>\n      <td>0.40004</td>\n      <td>0.416338</td>\n    </tr>\n    <tr>\n      <th>truth</th>\n      <td>0.530000</td>\n      <td>0.372200</td>\n      <td>0.268000</td>\n      <td>0.42000</td>\n      <td>0.420000</td>\n    </tr>\n    <tr>\n      <th>sub</th>\n      <td>-0.129989</td>\n      <td>0.034131</td>\n      <td>0.147743</td>\n      <td>-0.01996</td>\n      <td>-0.003662</td>\n    </tr>\n  </tbody>\n</table>\n</div>"
     },
     "metadata": {},
     "output_type": "display_data"
    },
    {
     "name": "stdout",
     "output_type": "stream",
     "text": [
      "lr reduce to: 9.509900499000001e-07\n",
      "iteration: 200 loss: 0.031148778274655342\n"
     ]
    },
    {
     "name": "stderr",
     "output_type": "stream",
     "text": [
      "D:\\miniconda\\envs\\base2\\lib\\site-packages\\torch\\nn\\modules\\loss.py:528: UserWarning: Using a target size (torch.Size([1000])) that is different to the input size (torch.Size([1000, 1])). This will likely lead to incorrect results due to broadcasting. Please ensure they have the same size.\n",
      "  return F.mse_loss(input, target, reduction=self.reduction)\n",
      "D:\\miniconda\\envs\\base2\\lib\\site-packages\\torch\\nn\\modules\\loss.py:528: UserWarning: Using a target size (torch.Size([100])) that is different to the input size (torch.Size([100, 1])). This will likely lead to incorrect results due to broadcasting. Please ensure they have the same size.\n",
      "  return F.mse_loss(input, target, reduction=self.reduction)\n"
     ]
    },
    {
     "name": "stdout",
     "output_type": "stream",
     "text": [
      "lr -> to: 9.509900499000001e-07\n",
      "iteration: 250 loss: 0.029590532804528873\n"
     ]
    },
    {
     "data": {
      "text/plain": "<Figure size 432x288 with 1 Axes>",
      "image/png": "[encoded data removed]"
     },
     "metadata": {
      "needs_background": "light"
     },
     "output_type": "display_data"
    },
    {
     "data": {
      "text/plain": "                0         1         2         3         4\npredict  0.409146  0.402574  0.408834  0.406607  0.413779\ntruth    0.530000  0.450000  0.450000  0.335000  0.650000\nsub     -0.120854 -0.047426 -0.041166  0.071607 -0.236221",
      "text/html": "<div>\n<style scoped>\n    .dataframe tbody tr th:only-of-type {\n        vertical-align: middle;\n    }\n\n    .dataframe tbody tr th {\n        vertical-align: top;\n    }\n\n    .dataframe thead th {\n        text-align: right;\n    }\n</style>\n<table border=\"1\" class=\"dataframe\">\n  <thead>\n    <tr style=\"text-align: right;\">\n      <th></th>\n      <th>0</th>\n      <th>1</th>\n      <th>2</th>\n      <th>3</th>\n      <th>4</th>\n    </tr>\n  </thead>\n  <tbody>\n    <tr>\n      <th>predict</th>\n      <td>0.409146</td>\n      <td>0.402574</td>\n      <td>0.408834</td>\n      <td>0.406607</td>\n      <td>0.413779</td>\n    </tr>\n    <tr>\n      <th>truth</th>\n      <td>0.530000</td>\n      <td>0.450000</td>\n      <td>0.450000</td>\n      <td>0.335000</td>\n      <td>0.650000</td>\n    </tr>\n    <tr>\n      <th>sub</th>\n      <td>-0.120854</td>\n      <td>-0.047426</td>\n      <td>-0.041166</td>\n      <td>0.071607</td>\n      <td>-0.236221</td>\n    </tr>\n  </tbody>\n</table>\n</div>"
     },
     "metadata": {},
     "output_type": "display_data"
    },
    {
     "name": "stdout",
     "output_type": "stream",
     "text": [
      "lr reduce to: 9.414801494010001e-07\n",
      "iteration: 250 loss: 0.029590532804528873\n"
     ]
    },
    {
     "name": "stderr",
     "output_type": "stream",
     "text": [
      "D:\\miniconda\\envs\\base2\\lib\\site-packages\\torch\\nn\\modules\\loss.py:528: UserWarning: Using a target size (torch.Size([1000])) that is different to the input size (torch.Size([1000, 1])). This will likely lead to incorrect results due to broadcasting. Please ensure they have the same size.\n",
      "  return F.mse_loss(input, target, reduction=self.reduction)\n",
      "D:\\miniconda\\envs\\base2\\lib\\site-packages\\torch\\nn\\modules\\loss.py:528: UserWarning: Using a target size (torch.Size([100])) that is different to the input size (torch.Size([100, 1])). This will likely lead to incorrect results due to broadcasting. Please ensure they have the same size.\n",
      "  return F.mse_loss(input, target, reduction=self.reduction)\n"
     ]
    },
    {
     "name": "stdout",
     "output_type": "stream",
     "text": [
      "end\n"
     ]
    }
   ],
   "source": [
    "trainer.param.cnn_kernels=[2,2,4,4,8,8]\n",
    "trainer.param.activation=nn.Tanh()\n",
    "trainer.param.epoch=300\n",
    "trainer.param.lr=0.000001\n",
    "trainer.param.lr_decay=0.99\n",
    "\n",
    "trainer.load_model_and_train()"
   ],
   "metadata": {
    "collapsed": false,
    "pycharm": {
     "name": "#%%\n"
    }
   }
  },
  {
   "cell_type": "code",
   "execution_count": null,
   "outputs": [],
   "source": [],
   "metadata": {
    "collapsed": false,
    "pycharm": {
     "name": "#%%\n"
    }
   }
  },
  {
   "cell_type": "markdown",
   "source": [
    "# best loss\n",
    "0.03011364997787909"
   ],
   "metadata": {
    "collapsed": false
   }
  }
 ],
 "metadata": {
  "kernelspec": {
   "display_name": "Python 3 (ipykernel)",
   "language": "python",
   "name": "python3"
  },
  "language_info": {
   "codemirror_mode": {
    "name": "ipython",
    "version": 3
   },
   "file_extension": ".py",
   "mimetype": "text/x-python",
   "name": "python",
   "nbconvert_exporter": "python",
   "pygments_lexer": "ipython3",
   "version": "3.7.12"
  }
 },
 "nbformat": 4,
 "nbformat_minor": 5
}