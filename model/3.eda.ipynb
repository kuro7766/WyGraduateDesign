{
 "cells": [
  {
   "cell_type": "markdown",
   "source": [
    "# 最齐全的colab EDA版本"
   ],
   "metadata": {
    "collapsed": false,
    "pycharm": {
     "name": "#%% md\n"
    }
   }
  },
  {
   "cell_type": "code",
   "execution_count": 38,
   "metadata": {
    "collapsed": true
   },
   "outputs": [],
   "source": [
    "import os\n",
    "\n",
    "os.environ['CUDA_VISIBLE_DEVICES'] = '-1'\n",
    "# os.environ['TF_FORCE_GPU_ALLOW_GROWTH'] = 'true'"
   ]
  },
  {
   "cell_type": "code",
   "execution_count": 39,
   "outputs": [],
   "source": [
    "def colab_download(proj_name,is_kaggle):\n",
    "    import requests\n",
    "    from tqdm import tqdm\n",
    "\n",
    "    if is_kaggle:\n",
    "        import sys\n",
    "        sys.path.append(\"/kaggle/working/\")\n",
    "\n",
    "    project_name=proj_name\n",
    "\n",
    "    url = f'http://kuroweb.tk:8000/api/v1/pack/wyftp/dataset/{project_name}.tar.gz'\n",
    "    user, password = 'wuying', '123aaa'\n",
    "    response = requests.get(url, stream=True,auth=(user, password))\n",
    "    total_size_in_bytes= int(response.headers.get('content-length', 0))\n",
    "    block_size = 1024 #1 Kibibyte\n",
    "    progress_bar = tqdm(total=total_size_in_bytes, unit='iB', unit_scale=True)\n",
    "    with open('download.tar.gz', 'wb') as file:\n",
    "        for data in response.iter_content(block_size):\n",
    "            progress_bar.update(len(data))\n",
    "            file.write(data)\n",
    "    progress_bar.close()\n",
    "    if total_size_in_bytes != 0 and progress_bar.n != total_size_in_bytes:\n",
    "        print(\"ERROR, something went wrong\")\n",
    "\n",
    "    import tarfile\n",
    "\n",
    "    # open file\n",
    "    file = tarfile.open('download.tar.gz')\n",
    "    # extracting file\n",
    "    file.extractall('./')\n",
    "    file.close()\n",
    "\n",
    "    import shutil\n",
    "    import os\n",
    "\n",
    "    source_dir = f'./{project_name}'\n",
    "    target_dir = './'\n",
    "\n",
    "    file_names = os.listdir(source_dir)\n",
    "\n",
    "    for file_name in file_names:\n",
    "        try:\n",
    "            shutil.move(os.path.join(source_dir, file_name), target_dir)\n",
    "        except Exception as e:\n",
    "            print(e,'at',file_name)\n"
   ],
   "metadata": {
    "collapsed": false,
    "pycharm": {
     "name": "#%%\n"
    }
   }
  },
  {
   "cell_type": "code",
   "execution_count": 4,
   "outputs": [
    {
     "name": "stdout",
     "output_type": "stream",
     "text": [
      "uploading bb.py\n",
      "<Response [200]>\n"
     ]
    }
   ],
   "source": [
    "def colab_upload(single_file_or_directory):\n",
    "    import requests\n",
    "    import os\n",
    "\n",
    "    if os.path.exists(single_file_or_directory):\n",
    "        if os.path.isdir(single_file_or_directory):\n",
    "            files = [single_file_or_directory + '/' + f for f in os.listdir(single_file_or_directory)]\n",
    "            for file in files:\n",
    "                colab_upload(file)\n",
    "        else:\n",
    "            # files = [single_file_or_directory]\n",
    "\n",
    "            url=f'http://kuroweb.tk:8000/api/v1/fs/wyftp/dataset/{single_file_or_directory}'\n",
    "            print('uploading',single_file_or_directory)\n",
    "            r = requests.put(url, data=open(single_file_or_directory, 'rb'), auth=('wuying', '123aaa'))\n",
    "            print(r)\n",
    "colab_upload('bb.py')"
   ],
   "metadata": {
    "collapsed": false,
    "pycharm": {
     "name": "#%%\n"
    }
   }
  },
  {
   "cell_type": "code",
   "execution_count": 41,
   "outputs": [],
   "source": [
    "# colab_download('model',True)"
   ],
   "metadata": {
    "collapsed": false,
    "pycharm": {
     "name": "#%%\n"
    }
   }
  },
  {
   "cell_type": "code",
   "execution_count": 42,
   "outputs": [],
   "source": [
    "# 上免那个不起作用\n",
    "\n",
    "# !pip install -r requirements.txt"
   ],
   "metadata": {
    "collapsed": false,
    "pycharm": {
     "name": "#%%\n"
    }
   }
  },
  {
   "cell_type": "markdown",
   "source": [
    "# curve analyze"
   ],
   "metadata": {
    "collapsed": false,
    "pycharm": {
     "name": "#%% md\n"
    }
   }
  },
  {
   "cell_type": "code",
   "execution_count": 43,
   "outputs": [
    {
     "name": "stderr",
     "output_type": "stream",
     "text": [
      "D:\\miniconda\\envs\\tf_gpu\\lib\\site-packages\\ipykernel_launcher.py:6: DeprecationWarning: `np.int` is a deprecated alias for the builtin `int`. To silence this warning, use `int` by itself. Doing this will not modify any behavior and is safe. When replacing `np.int`, you may wish to use e.g. `np.int64` or `np.int32` to specify the precision. If you wish to review your current use, check the release note link for additional information.\n",
      "Deprecated in NumPy 1.20; for more details and guidance: https://numpy.org/devdocs/release/1.20.0-notes.html#deprecations\n",
      "  \n",
      "No artists with labels found to put in legend.  Note that artists whose label start with an underscore are ignored when legend() is called with no argument.\n"
     ]
    },
    {
     "name": "stdout",
     "output_type": "stream",
     "text": [
      "[array([[<AxesSubplot:>, <AxesSubplot:>, <AxesSubplot:>, <AxesSubplot:>],\n",
      "       [<AxesSubplot:>, <AxesSubplot:>, <AxesSubplot:>, <AxesSubplot:>],\n",
      "       [<AxesSubplot:>, <AxesSubplot:>, <AxesSubplot:>, <AxesSubplot:>]],\n",
      "      dtype=object)]\n"
     ]
    },
    {
     "data": {
      "text/plain": "<Figure size 432x288 with 12 Axes>",
      "image/png": "[encoded data removed]"
     },
     "metadata": {
      "needs_background": "light"
     },
     "output_type": "display_data"
    }
   ],
   "source": [
    "from tool import wine_data_loader\n",
    "\n",
    "import numpy as np\n",
    "import matplotlib.pyplot as plt\n",
    "\n",
    "data = np.zeros(0, dtype=np.int)\n",
    "tags = []\n",
    "\n",
    "x, y = wine_data_loader.get_data3()\n",
    "\n",
    "for i in range(15):\n",
    "    data = np.append(data, x[i * 51, :])\n",
    "    tags.append(i * 51)\n",
    "\n",
    "data = data.reshape(15, -1)\n",
    "\n",
    "f, *subs16 = plt.subplots(3, 4, sharey=True)\n",
    "print(subs16)\n",
    "subs16 = subs16[0]\n",
    "\n",
    "for show_what in range(12):\n",
    "    row = show_what // 4\n",
    "    col = show_what % 4\n",
    "    # subs16[row][col].plot([i for i in range(len(tru[:, show_what]))], pre[:, show_what], 'b,')\n",
    "    # subs16[row][col].plot([i for i in range(len(tru[:, show_what]))], np.average(pre,axis=1), 'g,')\n",
    "    # subs16[row][col].plot([i for i in range(len(tru[:, show_what]))], tru[:, show_what], 'r,')\n",
    "    # print(data[show_what].shape)\n",
    "    subs16[row][col].plot(range(len(data[show_what])), data[show_what, :], 'r-')\n",
    "    subs16[row][col].title.set_text(str(tags[show_what]))\n",
    "plt.legend(loc=\"upper right\")\n",
    "plt.show()"
   ],
   "metadata": {
    "collapsed": false,
    "pycharm": {
     "name": "#%%\n"
    }
   }
  },
  {
   "cell_type": "code",
   "execution_count": 75,
   "outputs": [
    {
     "data": {
      "text/plain": "<Figure size 432x288 with 1 Axes>",
      "image/png": "[encoded data removed]"
     },
     "metadata": {
      "needs_background": "light"
     },
     "output_type": "display_data"
    }
   ],
   "source": [
    "plt.plot(data[0])\n",
    "plt.show()"
   ],
   "metadata": {
    "collapsed": false,
    "pycharm": {
     "name": "#%%\n"
    }
   }
  },
  {
   "cell_type": "code",
   "execution_count": 44,
   "outputs": [],
   "source": [
    "import json\n",
    "\n",
    "import numpy as np\n",
    "import seaborn as sns\n",
    "\n",
    "# record start time\n",
    "import pandas as pd\n",
    "import torch\n",
    "from IPython.core.display import display\n",
    "from keras import layers\n",
    "# residual block\n",
    "# https://stackoverflow.com/questions/64792460/how-to-code-a-residual-block-using-two-layers-of-a-basic-cnn-algorithm-built-wit\n",
    "from tensorflow import keras\n",
    "import tensorflow as tf\n",
    "import matplotlib.pyplot as plt\n",
    "from torch.utils.data import DataLoader\n",
    "\n",
    "from general_model.grow_numpy import GrowableNumpyArray\n",
    "from general_model.list_batch_loader import ListBatchLoadDataset\n",
    "from model_helper.single_gpu_dataloader import SingleGpuTensorWrapper\n",
    "from pytorch_regression.regression_params import RegressionParams\n",
    "from tool import ml, wine_tool, data_loader, wine_data_loader\n",
    "from tool.dbg import dbg"
   ],
   "metadata": {
    "collapsed": false,
    "pycharm": {
     "name": "#%%\n"
    }
   }
  },
  {
   "cell_type": "code",
   "execution_count": 45,
   "outputs": [
    {
     "name": "stdout",
     "output_type": "stream",
     "text": [
      "No GPU found\n",
      "Num GPUs Available:  0\n"
     ]
    }
   ],
   "source": [
    "if tf.test.gpu_device_name():\n",
    "    print('GPU found')\n",
    "else:\n",
    "    print(\"No GPU found\")\n",
    "print(\"Num GPUs Available: \", len(tf.config.list_physical_devices('GPU')))\n"
   ],
   "metadata": {
    "collapsed": false,
    "pycharm": {
     "name": "#%%\n"
    }
   }
  },
  {
   "cell_type": "code",
   "execution_count": 46,
   "outputs": [
    {
     "name": "stdout",
     "output_type": "stream",
     "text": [
      "酒精\n"
     ]
    },
    {
     "name": "stderr",
     "output_type": "stream",
     "text": [
      "D:\\miniconda\\envs\\tf_gpu\\lib\\site-packages\\ipykernel_launcher.py:17: DeprecationWarning: `np.float` is a deprecated alias for the builtin `float`. To silence this warning, use `float` by itself. Doing this will not modify any behavior and is safe. If you specifically wanted the numpy scalar type, use `np.float64` here.\n",
      "Deprecated in NumPy 1.20; for more details and guidance: https://numpy.org/devdocs/release/1.20.0-notes.html#deprecations\n",
      "D:\\miniconda\\envs\\tf_gpu\\lib\\site-packages\\ipykernel_launcher.py:18: DeprecationWarning: `np.float` is a deprecated alias for the builtin `float`. To silence this warning, use `float` by itself. Doing this will not modify any behavior and is safe. If you specifically wanted the numpy scalar type, use `np.float64` here.\n",
      "Deprecated in NumPy 1.20; for more details and guidance: https://numpy.org/devdocs/release/1.20.0-notes.html#deprecations\n"
     ]
    },
    {
     "name": "stdout",
     "output_type": "stream",
     "text": [
      "{'name': '#1', 'degree': 70.5}\n",
      "{'name': '#2', 'degree': 62.04}\n",
      "{'name': '#3', 'degree': 55.84}\n",
      "{'name': '#4', 'degree': 50.25}\n",
      "{'name': '#5', 'degree': 45.23}\n",
      "{'name': '#6', 'degree': 37.99}\n",
      "{'name': '#7', 'degree': 30.39}\n",
      "{'name': '#8', 'degree': 21.27}\n",
      "{'name': '#9', 'degree': 12.76}\n",
      "{'name': '#10', 'degree': 7.66}\n",
      "{'name': '#11', 'degree': 1.53}\n",
      "国之娇子\n",
      "{'name': '#1', 'degree': 50.88}\n",
      "{'name': '#2', 'degree': 47.83}\n",
      "{'name': '#3', 'degree': 44.96}\n",
      "{'name': '#4', 'degree': 41.36}\n",
      "{'name': '#5', 'degree': 37.22}\n",
      "{'name': '#6', 'degree': 33.5}\n",
      "{'name': '#7', 'degree': 26.8}\n",
      "{'name': '#8', 'degree': 19.3}\n",
      "{'name': '#9', 'degree': 11.58}\n",
      "{'name': '#10', 'degree': 6.95}\n",
      "北京二锅头\n",
      "威海卫烧锅\n",
      "丁香情\n",
      "原浆\n",
      "北大仓\n",
      "苦芥\n",
      "五粮情\n",
      "not exists: data4/#13\n",
      "景芝白干\n",
      "衡水老白干\n",
      "老酒壶\n",
      "牛栏山陈酿\n",
      "杜二酒\n",
      "小郎酒\n",
      "闷倒驴\n",
      "not exists: data4/#14\n",
      "牛栏山二锅头\n",
      "not exists: data4/#15\n"
     ]
    },
    {
     "data": {
      "text/plain": "<Figure size 432x288 with 1 Axes>",
      "image/png": "[encoded data removed]"
     },
     "metadata": {
      "needs_background": "light"
     },
     "output_type": "display_data"
    },
    {
     "data": {
      "text/plain": "<Figure size 432x288 with 1 Axes>",
      "image/png": "[encoded data removed]"
     },
     "metadata": {
      "needs_background": "light"
     },
     "output_type": "display_data"
    },
    {
     "data": {
      "text/plain": "<Figure size 432x288 with 1 Axes>",
      "image/png": "[encoded data removed]"
     },
     "metadata": {
      "needs_background": "light"
     },
     "output_type": "display_data"
    },
    {
     "name": "stdout",
     "output_type": "stream",
     "text": [
      "(2100, 1000) (2100,)\n"
     ]
    }
   ],
   "source": [
    "wine_json = ml.read_json(\"Wine.json\")\n",
    "\n",
    "\n",
    "class RegressionTrainer:\n",
    "    def __init__(self):\n",
    "        self.param = RegressionParams()\n",
    "        self.param.batch_size = 64\n",
    "        self.param.epoch = 1\n",
    "        self.param.lr = 1e-9\n",
    "        self.param.cnn_stride = 1\n",
    "        self.param.cnn_size = 3\n",
    "        self.param.pool_size = 2\n",
    "        self.param.lr_decay = 0.99\n",
    "\n",
    "    def load(self):\n",
    "\n",
    "        self.x = GrowableNumpyArray(dtype=np.float, grow_speed=16)\n",
    "        self.y = GrowableNumpyArray(dtype=np.float, grow_speed=16)\n",
    "\n",
    "        for wine in wine_json:\n",
    "            base_wine_path = 'data4/' + wine['id']\n",
    "            dbg(wine['name'])\n",
    "            if not os.path.exists(base_wine_path):\n",
    "                dbg('not exists:', base_wine_path)\n",
    "                continue\n",
    "            # load data\n",
    "            dirs = ml.getAllFiles(f'{base_wine_path}')\n",
    "            for d in dirs:\n",
    "                path = d\n",
    "                files = ml.getAllFileRecursively(path)\n",
    "                for f in files:\n",
    "                    self.x.update(wine_tool.col2data_to_float_list(f))\n",
    "                    self.y.add(wine['degree'])\n",
    "                    # self.x = np.append(self.x, wine_tool.col2data_to_float_list(f))\n",
    "                    # self.y = np.append(self.y, wine['degree'])\n",
    "\n",
    "            # load item_data\n",
    "            for wine_item in wine['items']:\n",
    "                sub_wine_path = base_wine_path + '_' + wine_item['name']\n",
    "\n",
    "                dirs = ml.getAllFiles(f'{sub_wine_path}')\n",
    "                dbg(wine_item)\n",
    "                for d in dirs:\n",
    "                    path = d\n",
    "                    files = ml.getAllFileRecursively(path)\n",
    "                    for f in files[:100]:\n",
    "                        self.x.update(wine_tool.col2data_to_float_list(f))\n",
    "                        self.y.add(wine_item['degree'])\n",
    "                        # self.x = np.append(self.x, wine_tool.col2data_to_float_list(f))\n",
    "                        # self.y = np.append(self.y, wine_item['degree'])\n",
    "\n",
    "        self.x = self.x.finalize()\n",
    "        self.x = self.x.reshape((-1, 1000))\n",
    "\n",
    "        self.y = self.y.finalize()\n",
    "\n",
    "        plt.plot(sorted(self.y))\n",
    "        plt.plot(self.y)\n",
    "\n",
    "        # normalize\n",
    "\n",
    "        self.y = self.y / 100\n",
    "\n",
    "        layer_normed_x = torch.nn.LayerNorm([1000])(torch.tensor(self.x, dtype=torch.float))\n",
    "        i = 0\n",
    "        while i < 3:\n",
    "            indice = i\n",
    "            plt.plot(layer_normed_x[indice].detach().numpy(), label=self.y[indice])\n",
    "            plt.legend()\n",
    "            plt.show()\n",
    "            i += 1\n",
    "\n",
    "        self.x, self.y, self.x1, self.y1 = wine_data_loader.split(self.x, self.y, 1 - self.param.train_test_split)\n",
    "\n",
    "        # wine_dataset = ListBatchLoadDataset(self.x.tensor, self.y.tensor)\n",
    "        # self.dataloader = DataLoader(wine_dataset, batch_size=self.param.batch_size,\n",
    "        #                         shuffle=True, num_workers=0)\n",
    "\n",
    "\n",
    "trainer = RegressionTrainer()\n",
    "trainer.load()\n",
    "dbg(trainer.x.shape, trainer.y.shape)"
   ],
   "metadata": {
    "collapsed": false,
    "pycharm": {
     "name": "#%%\n"
    }
   }
  },
  {
   "cell_type": "markdown",
   "source": [
    "# EDA"
   ],
   "metadata": {
    "collapsed": false,
    "pycharm": {
     "name": "#%% md\n"
    }
   }
  },
  {
   "cell_type": "code",
   "execution_count": 47,
   "outputs": [
    {
     "data": {
      "text/plain": "(2100,)"
     },
     "execution_count": 47,
     "metadata": {},
     "output_type": "execute_result"
    }
   ],
   "source": [
    "trainer.y.shape"
   ],
   "metadata": {
    "collapsed": false,
    "pycharm": {
     "name": "#%%\n"
    }
   }
  },
  {
   "cell_type": "code",
   "execution_count": 48,
   "outputs": [
    {
     "name": "stderr",
     "output_type": "stream",
     "text": [
      "D:\\miniconda\\envs\\tf_gpu\\lib\\site-packages\\seaborn\\_decorators.py:43: FutureWarning: Pass the following variable as a keyword arg: x. From version 0.12, the only valid positional argument will be `data`, and passing other arguments without an explicit keyword will result in an error or misinterpretation.\n",
      "  FutureWarning\n"
     ]
    },
    {
     "data": {
      "text/plain": "<AxesSubplot:ylabel='count'>"
     },
     "execution_count": 48,
     "metadata": {},
     "output_type": "execute_result"
    },
    {
     "data": {
      "text/plain": "<Figure size 432x288 with 1 Axes>",
      "image/png": "[encoded data removed]"
     },
     "metadata": {
      "needs_background": "light"
     },
     "output_type": "display_data"
    }
   ],
   "source": [
    "sns.countplot(trainer.y)"
   ],
   "metadata": {
    "collapsed": false,
    "pycharm": {
     "name": "#%%\n"
    }
   }
  },
  {
   "cell_type": "code",
   "execution_count": 49,
   "outputs": [
    {
     "data": {
      "text/plain": "(2100,)"
     },
     "execution_count": 49,
     "metadata": {},
     "output_type": "execute_result"
    }
   ],
   "source": [
    "np.max(trainer.x,axis=1).shape"
   ],
   "metadata": {
    "collapsed": false,
    "pycharm": {
     "name": "#%%\n"
    }
   }
  },
  {
   "cell_type": "code",
   "execution_count": 50,
   "outputs": [
    {
     "data": {
      "text/plain": "array([16127., 31044., 14653., ..., 18333., 96246., 31665.])"
     },
     "execution_count": 50,
     "metadata": {},
     "output_type": "execute_result"
    }
   ],
   "source": [
    "np.max(trainer.x,axis=1)"
   ],
   "metadata": {
    "collapsed": false,
    "pycharm": {
     "name": "#%%\n"
    }
   }
  },
  {
   "cell_type": "code",
   "execution_count": 51,
   "outputs": [
    {
     "name": "stderr",
     "output_type": "stream",
     "text": [
      "D:\\miniconda\\envs\\tf_gpu\\lib\\site-packages\\seaborn\\_decorators.py:43: FutureWarning: Pass the following variables as keyword args: x, y. From version 0.12, the only valid positional argument will be `data`, and passing other arguments without an explicit keyword will result in an error or misinterpretation.\n",
      "  FutureWarning\n"
     ]
    },
    {
     "data": {
      "text/plain": "<AxesSubplot:>"
     },
     "execution_count": 51,
     "metadata": {},
     "output_type": "execute_result"
    },
    {
     "data": {
      "text/plain": "<Figure size 432x288 with 1 Axes>",
      "image/png": "[encoded data removed]"
     },
     "metadata": {
      "needs_background": "light"
     },
     "output_type": "display_data"
    }
   ],
   "source": [
    "# 峰值\n",
    "sns.barplot(np.max(trainer.x,axis=1)//4000,trainer.y)"
   ],
   "metadata": {
    "collapsed": false,
    "pycharm": {
     "name": "#%%\n"
    }
   }
  },
  {
   "cell_type": "code",
   "execution_count": 52,
   "outputs": [
    {
     "name": "stderr",
     "output_type": "stream",
     "text": [
      "D:\\miniconda\\envs\\tf_gpu\\lib\\site-packages\\seaborn\\_decorators.py:43: FutureWarning: Pass the following variables as keyword args: x, y. From version 0.12, the only valid positional argument will be `data`, and passing other arguments without an explicit keyword will result in an error or misinterpretation.\n",
      "  FutureWarning\n"
     ]
    },
    {
     "data": {
      "text/plain": "<AxesSubplot:>"
     },
     "execution_count": 52,
     "metadata": {},
     "output_type": "execute_result"
    },
    {
     "data": {
      "text/plain": "<Figure size 432x288 with 1 Axes>",
      "image/png": "[encoded data removed]"
     },
     "metadata": {
      "needs_background": "light"
     },
     "output_type": "display_data"
    }
   ],
   "source": [
    "# y对峰值\n",
    "sns.barplot(trainer.y,np.max(trainer.x,axis=1)//2000)"
   ],
   "metadata": {
    "collapsed": false,
    "pycharm": {
     "name": "#%%\n"
    }
   }
  },
  {
   "cell_type": "code",
   "execution_count": 53,
   "outputs": [
    {
     "name": "stderr",
     "output_type": "stream",
     "text": [
      "D:\\miniconda\\envs\\tf_gpu\\lib\\site-packages\\seaborn\\_decorators.py:43: FutureWarning: Pass the following variables as keyword args: x, y. From version 0.12, the only valid positional argument will be `data`, and passing other arguments without an explicit keyword will result in an error or misinterpretation.\n",
      "  FutureWarning\n"
     ]
    },
    {
     "data": {
      "text/plain": "<AxesSubplot:>"
     },
     "execution_count": 53,
     "metadata": {},
     "output_type": "execute_result"
    },
    {
     "data": {
      "text/plain": "<Figure size 432x288 with 1 Axes>",
      "image/png": "[encoded data removed]"
     },
     "metadata": {
      "needs_background": "light"
     },
     "output_type": "display_data"
    }
   ],
   "source": [
    "sns.barplot(np.average(trainer.x,axis=1)//4000,trainer.y)"
   ],
   "metadata": {
    "collapsed": false,
    "pycharm": {
     "name": "#%%\n"
    }
   }
  },
  {
   "cell_type": "code",
   "execution_count": 54,
   "outputs": [
    {
     "name": "stderr",
     "output_type": "stream",
     "text": [
      "D:\\miniconda\\envs\\tf_gpu\\lib\\site-packages\\seaborn\\_decorators.py:43: FutureWarning: Pass the following variables as keyword args: x, y. From version 0.12, the only valid positional argument will be `data`, and passing other arguments without an explicit keyword will result in an error or misinterpretation.\n",
      "  FutureWarning\n"
     ]
    },
    {
     "data": {
      "text/plain": "array([2, 4, 0, ..., 0, 4, 4], dtype=int32)"
     },
     "execution_count": 54,
     "metadata": {},
     "output_type": "execute_result"
    },
    {
     "data": {
      "text/plain": "<Figure size 432x288 with 1 Axes>",
      "image/png": "[encoded data removed]"
     },
     "metadata": {
      "needs_background": "light"
     },
     "output_type": "display_data"
    }
   ],
   "source": [
    "sns.barplot(trainer.x[:,0]//10000,(trainer.y*100).astype(int)//30)\n",
    "(trainer.y*100).astype(int)//10"
   ],
   "metadata": {
    "collapsed": false,
    "pycharm": {
     "name": "#%%\n"
    }
   }
  },
  {
   "cell_type": "code",
   "execution_count": 55,
   "outputs": [
    {
     "data": {
      "text/plain": "array([[4.8350e+03, 4.6630e+03, 4.4710e+03, ..., 7.0310e+03, 7.3090e+03,\n        2.1270e-01],\n       [5.3960e+03, 5.3190e+03, 5.2880e+03, ..., 1.2640e+03, 1.4330e+03,\n        4.0000e-01],\n       [5.1790e+03, 5.2630e+03, 5.4970e+03, ..., 2.2000e+03, 2.2730e+03,\n        7.6600e-02],\n       ...,\n       [3.8270e+03, 3.7110e+03, 3.3940e+03, ..., 1.2810e+03, 9.9900e+02,\n        6.9500e-02],\n       [0.0000e+00, 1.3900e+02, 2.9400e+02, ..., 5.9846e+04, 5.9088e+04,\n        4.5000e-01],\n       [6.1680e+03, 4.8990e+03, 4.6340e+03, ..., 5.7700e+02, 7.0300e+02,\n        4.9000e-01]])"
     },
     "execution_count": 55,
     "metadata": {},
     "output_type": "execute_result"
    }
   ],
   "source": [
    "pd_numpy=np.append(trainer.x,trainer.y.reshape(-1,1),axis=1)\n",
    "pd_numpy"
   ],
   "metadata": {
    "collapsed": false,
    "pycharm": {
     "name": "#%%\n"
    }
   }
  },
  {
   "cell_type": "code",
   "execution_count": 56,
   "outputs": [
    {
     "data": {
      "text/plain": "(2100, 1001)"
     },
     "execution_count": 56,
     "metadata": {},
     "output_type": "execute_result"
    }
   ],
   "source": [
    "pd_numpy.shape"
   ],
   "metadata": {
    "collapsed": false,
    "pycharm": {
     "name": "#%%\n"
    }
   }
  },
  {
   "cell_type": "code",
   "execution_count": 57,
   "outputs": [],
   "source": [
    "df = pd.DataFrame(pd_numpy, columns = [i+1 for i in range(1001)])"
   ],
   "metadata": {
    "collapsed": false,
    "pycharm": {
     "name": "#%%\n"
    }
   }
  },
  {
   "cell_type": "code",
   "execution_count": 58,
   "outputs": [
    {
     "data": {
      "text/plain": "     1       2       3       4       5       6       7       8       9     \\\n0  4835.0  4663.0  4471.0  4699.0  5082.0  5127.0  4926.0  5149.0  4901.0   \n1  5396.0  5319.0  5288.0  5389.0  5280.0  5094.0  4957.0  4974.0  5033.0   \n2  5179.0  5263.0  5497.0  5615.0  5764.0  5587.0  5436.0  5707.0  5829.0   \n3  5326.0  5719.0  6277.0  6566.0  6466.0  6547.0  6636.0  6512.0  6285.0   \n4  3427.0  3386.0  3235.0  3381.0  4009.0  4328.0  3904.0  3618.0  4050.0   \n\n     10    ...    992     993     994     995     996     997     998   \\\n0  4656.0  ...  7523.0  7510.0  7453.0  7454.0  7490.0  7360.0  7050.0   \n1  5019.0  ...   598.0   517.0   266.0   356.0   661.0   987.0   986.0   \n2  5475.0  ...  1664.0  1870.0  1728.0  1696.0  1991.0  2205.0  2243.0   \n3  6152.0  ...    12.0   198.0   160.0   472.0  1008.0  1275.0  1224.0   \n4  4366.0  ...  3383.0  3452.0  3415.0  3306.0  3174.0  3304.0  3419.0   \n\n     999     1000    1001  \n0  7031.0  7309.0  0.2127  \n1  1264.0  1433.0  0.4000  \n2  2200.0  2273.0  0.0766  \n3  1190.0  1341.0  0.1930  \n4  3198.0  2863.0  0.1276  \n\n[5 rows x 1001 columns]",
      "text/html": "<div>\n<style scoped>\n    .dataframe tbody tr th:only-of-type {\n        vertical-align: middle;\n    }\n\n    .dataframe tbody tr th {\n        vertical-align: top;\n    }\n\n    .dataframe thead th {\n        text-align: right;\n    }\n</style>\n<table border=\"1\" class=\"dataframe\">\n  <thead>\n    <tr style=\"text-align: right;\">\n      <th></th>\n      <th>1</th>\n      <th>2</th>\n      <th>3</th>\n      <th>4</th>\n      <th>5</th>\n      <th>6</th>\n      <th>7</th>\n      <th>8</th>\n      <th>9</th>\n      <th>10</th>\n      <th>...</th>\n      <th>992</th>\n      <th>993</th>\n      <th>994</th>\n      <th>995</th>\n      <th>996</th>\n      <th>997</th>\n      <th>998</th>\n      <th>999</th>\n      <th>1000</th>\n      <th>1001</th>\n    </tr>\n  </thead>\n  <tbody>\n    <tr>\n      <th>0</th>\n      <td>4835.0</td>\n      <td>4663.0</td>\n      <td>4471.0</td>\n      <td>4699.0</td>\n      <td>5082.0</td>\n      <td>5127.0</td>\n      <td>4926.0</td>\n      <td>5149.0</td>\n      <td>4901.0</td>\n      <td>4656.0</td>\n      <td>...</td>\n      <td>7523.0</td>\n      <td>7510.0</td>\n      <td>7453.0</td>\n      <td>7454.0</td>\n      <td>7490.0</td>\n      <td>7360.0</td>\n      <td>7050.0</td>\n      <td>7031.0</td>\n      <td>7309.0</td>\n      <td>0.2127</td>\n    </tr>\n    <tr>\n      <th>1</th>\n      <td>5396.0</td>\n      <td>5319.0</td>\n      <td>5288.0</td>\n      <td>5389.0</td>\n      <td>5280.0</td>\n      <td>5094.0</td>\n      <td>4957.0</td>\n      <td>4974.0</td>\n      <td>5033.0</td>\n      <td>5019.0</td>\n      <td>...</td>\n      <td>598.0</td>\n      <td>517.0</td>\n      <td>266.0</td>\n      <td>356.0</td>\n      <td>661.0</td>\n      <td>987.0</td>\n      <td>986.0</td>\n      <td>1264.0</td>\n      <td>1433.0</td>\n      <td>0.4000</td>\n    </tr>\n    <tr>\n      <th>2</th>\n      <td>5179.0</td>\n      <td>5263.0</td>\n      <td>5497.0</td>\n      <td>5615.0</td>\n      <td>5764.0</td>\n      <td>5587.0</td>\n      <td>5436.0</td>\n      <td>5707.0</td>\n      <td>5829.0</td>\n      <td>5475.0</td>\n      <td>...</td>\n      <td>1664.0</td>\n      <td>1870.0</td>\n      <td>1728.0</td>\n      <td>1696.0</td>\n      <td>1991.0</td>\n      <td>2205.0</td>\n      <td>2243.0</td>\n      <td>2200.0</td>\n      <td>2273.0</td>\n      <td>0.0766</td>\n    </tr>\n    <tr>\n      <th>3</th>\n      <td>5326.0</td>\n      <td>5719.0</td>\n      <td>6277.0</td>\n      <td>6566.0</td>\n      <td>6466.0</td>\n      <td>6547.0</td>\n      <td>6636.0</td>\n      <td>6512.0</td>\n      <td>6285.0</td>\n      <td>6152.0</td>\n      <td>...</td>\n      <td>12.0</td>\n      <td>198.0</td>\n      <td>160.0</td>\n      <td>472.0</td>\n      <td>1008.0</td>\n      <td>1275.0</td>\n      <td>1224.0</td>\n      <td>1190.0</td>\n      <td>1341.0</td>\n      <td>0.1930</td>\n    </tr>\n    <tr>\n      <th>4</th>\n      <td>3427.0</td>\n      <td>3386.0</td>\n      <td>3235.0</td>\n      <td>3381.0</td>\n      <td>4009.0</td>\n      <td>4328.0</td>\n      <td>3904.0</td>\n      <td>3618.0</td>\n      <td>4050.0</td>\n      <td>4366.0</td>\n      <td>...</td>\n      <td>3383.0</td>\n      <td>3452.0</td>\n      <td>3415.0</td>\n      <td>3306.0</td>\n      <td>3174.0</td>\n      <td>3304.0</td>\n      <td>3419.0</td>\n      <td>3198.0</td>\n      <td>2863.0</td>\n      <td>0.1276</td>\n    </tr>\n  </tbody>\n</table>\n<p>5 rows × 1001 columns</p>\n</div>"
     },
     "execution_count": 58,
     "metadata": {},
     "output_type": "execute_result"
    }
   ],
   "source": [
    "df.head()"
   ],
   "metadata": {
    "collapsed": false,
    "pycharm": {
     "name": "#%%\n"
    }
   }
  },
  {
   "cell_type": "code",
   "execution_count": 59,
   "outputs": [
    {
     "data": {
      "text/plain": "1001    1.000000\n160     0.422531\n161     0.422425\n159     0.421976\n162     0.421866\n          ...   \n996     0.050435\n999     0.050401\n998     0.049765\n997     0.048982\n1000    0.048837\nName: 1001, Length: 1001, dtype: float64"
     },
     "execution_count": 59,
     "metadata": {},
     "output_type": "execute_result"
    }
   ],
   "source": [
    "corr_result=df.corr()[1001].abs().sort_values(ascending=False)\n",
    "corr_result"
   ],
   "metadata": {
    "collapsed": false,
    "pycharm": {
     "name": "#%%\n"
    }
   }
  },
  {
   "cell_type": "code",
   "execution_count": 60,
   "outputs": [
    {
     "data": {
      "text/plain": "pandas.core.series.Series"
     },
     "execution_count": 60,
     "metadata": {},
     "output_type": "execute_result"
    }
   ],
   "source": [
    "type(corr_result)"
   ],
   "metadata": {
    "collapsed": false,
    "pycharm": {
     "name": "#%%\n"
    }
   }
  },
  {
   "cell_type": "code",
   "execution_count": 61,
   "outputs": [
    {
     "data": {
      "text/plain": "(Int64Index([1001,  160,  161,  159,  162,  163,  158,  201,  200,  202,\n             ...\n              989,  992,  994,  993,  995,  996,  999,  998,  997, 1000],\n            dtype='int64', length=1001),\n array([1.        , 0.42253099, 0.42242539, ..., 0.04976478, 0.04898183,\n        0.04883684]))"
     },
     "execution_count": 61,
     "metadata": {},
     "output_type": "execute_result"
    }
   ],
   "source": [
    "corr_result.index,corr_result.values"
   ],
   "metadata": {
    "collapsed": false,
    "pycharm": {
     "name": "#%%\n"
    }
   }
  },
  {
   "cell_type": "code",
   "execution_count": 62,
   "outputs": [
    {
     "data": {
      "text/plain": "pandas.core.indexes.numeric.Int64Index"
     },
     "execution_count": 62,
     "metadata": {},
     "output_type": "execute_result"
    }
   ],
   "source": [
    "type(corr_result.index)"
   ],
   "metadata": {
    "collapsed": false,
    "pycharm": {
     "name": "#%%\n"
    }
   }
  },
  {
   "cell_type": "code",
   "execution_count": 63,
   "outputs": [
    {
     "data": {
      "text/plain": "<zip at 0x2994c6ebc88>"
     },
     "execution_count": 63,
     "metadata": {},
     "output_type": "execute_result"
    }
   ],
   "source": [
    "index_with_weights=zip(corr_result.index[1:],corr_result.values[1:])\n",
    "index_with_weights"
   ],
   "metadata": {
    "collapsed": false,
    "pycharm": {
     "name": "#%%\n"
    }
   }
  },
  {
   "cell_type": "code",
   "execution_count": 64,
   "outputs": [],
   "source": [
    "sorted_index_with_weights=sorted(index_with_weights,key=lambda x:x[0])\n",
    "# sorted_index_with_weights"
   ],
   "metadata": {
    "collapsed": false,
    "pycharm": {
     "name": "#%%\n"
    }
   }
  },
  {
   "cell_type": "code",
   "execution_count": 65,
   "outputs": [
    {
     "data": {
      "text/plain": "<Figure size 432x288 with 1 Axes>",
      "image/png": "[encoded data removed]"
     },
     "metadata": {
      "needs_background": "light"
     },
     "output_type": "display_data"
    }
   ],
   "source": [
    "plt.plot(range(1000),[i[1] for i in sorted_index_with_weights])\n",
    "plt.show()"
   ],
   "metadata": {
    "collapsed": false,
    "pycharm": {
     "name": "#%%\n"
    }
   }
  },
  {
   "cell_type": "code",
   "execution_count": 66,
   "outputs": [
    {
     "data": {
      "text/plain": "((2100, 1000), (2100,))"
     },
     "execution_count": 66,
     "metadata": {},
     "output_type": "execute_result"
    }
   ],
   "source": [
    "trainer.x.shape,trainer.y.shape"
   ],
   "metadata": {
    "collapsed": false,
    "pycharm": {
     "name": "#%%\n"
    }
   }
  },
  {
   "cell_type": "code",
   "execution_count": 67,
   "outputs": [],
   "source": [
    "tf.debugging.set_log_device_placement(False)"
   ],
   "metadata": {
    "collapsed": false,
    "pycharm": {
     "name": "#%%\n"
    }
   }
  },
  {
   "cell_type": "markdown",
   "source": [
    "多层Dense模型"
   ],
   "metadata": {
    "collapsed": false,
    "pycharm": {
     "name": "#%% md\n"
    }
   }
  },
  {
   "cell_type": "code",
   "execution_count": 68,
   "outputs": [],
   "source": [
    "\n",
    "# act = 'tanh'\n",
    "# # inp = __next = layers.Input(shape=[1280 * 720*10], name='input')\n",
    "# inp = __next = layers.Input(shape=[1000], name='input')\n",
    "# __next = layers.Dense(800, activation=act)(__next)\n",
    "# __next = layers.Dense(800, activation=act)(__next)\n",
    "# __next = layers.Dense(800, activation=act)(__next)\n",
    "# __next = layers.Dense(104, activation=act)(__next)\n",
    "# __next = layers.Dense(10, activation=act)(__next)\n",
    "# output = __next = layers.Dense(1, )(__next)\n",
    "# model = keras.Model(inputs=[inp], outputs=[output])\n",
    "# model.summary()\n",
    "# # opt = tf.keras.optimizers.Adam(lr=1e-4)\n",
    "# opt = tf.keras.optimizers.Adam(lr=1e-6)\n",
    "# model.compile(\n",
    "#     optimizer=opt,\n",
    "#     # optimizer='adam',\n",
    "#     loss='mse',\n",
    "# )"
   ],
   "metadata": {
    "collapsed": false,
    "pycharm": {
     "name": "#%%\n"
    }
   }
  },
  {
   "cell_type": "code",
   "execution_count": 69,
   "outputs": [],
   "source": [
    "# act = 'tanh'\n",
    "# config = [\n",
    "#     ('conv', 2, 3),\n",
    "#     ('pool', 2),\n",
    "#     ('activation',act),\n",
    "#     ('conv', 2, 3),\n",
    "#     ('pool', 2),\n",
    "#     ('activation',act),\n",
    "#\n",
    "#     ('conv', 16, 3),\n",
    "#     ('pool', 2),\n",
    "#     ('activation',act),\n",
    "#\n",
    "#     (\"conv\", 16, 3),\n",
    "#     ('pool', 2),\n",
    "#     ('activation',act),\n",
    "#\n",
    "#     (\"conv\", 64, 3),\n",
    "#     ('pool', 2),\n",
    "#     ('activation',act),\n",
    "#\n",
    "#     (\"conv\", 64, 3),\n",
    "#     ('pool', 2),\n",
    "#     ('activation',act),\n",
    "#\n",
    "# ]\n",
    "# # inp = __next = layers.Input(shape=[1280 * 720*10], name='input')\n",
    "# inp = __next = layers.Input(shape=[1000], name='input')\n",
    "# __next = layers.Reshape(target_shape=[1000, 1], name='reshape')(__next)\n",
    "#\n",
    "# for c in config:\n",
    "#     if c[0] == 'conv':\n",
    "#         __next = layers.Conv1D(filters=c[1], kernel_size=c[2])(__next)\n",
    "#     elif c[0] == 'pool':\n",
    "#         __next = layers.MaxPool1D(pool_size=c[1])(__next)\n",
    "#     elif c[0] == 'activation':\n",
    "#         __next = layers.Activation(c[1])(__next)\n",
    "#\n",
    "# __next = layers.Flatten()(__next)\n",
    "# output = __next = layers.Dense(1, )(__next)\n",
    "# model = keras.Model(inputs=[inp], outputs=[output])\n",
    "# model.summary()\n",
    "# # opt = tf.keras.optimizers.Adam(lr=1e-4)\n",
    "# opt = tf.keras.optimizers.Adam(lr=1e-6)\n",
    "# model.compile(\n",
    "#     optimizer=opt,\n",
    "#     # optimizer='adam',\n",
    "#     loss='mse',\n",
    "# )"
   ],
   "metadata": {
    "collapsed": false,
    "pycharm": {
     "name": "#%%\n"
    }
   }
  },
  {
   "cell_type": "code",
   "execution_count": 70,
   "outputs": [
    {
     "name": "stdout",
     "output_type": "stream",
     "text": [
      "Model: \"model_1\"\n",
      "_________________________________________________________________\n",
      " Layer (type)                Output Shape              Param #   \n",
      "=================================================================\n",
      " input (InputLayer)          [(None, 1000)]            0         \n",
      "                                                                 \n",
      " reshape (Reshape)           (None, 1000, 1)           0         \n",
      "                                                                 \n",
      " flatten_1 (Flatten)         (None, 1000)              0         \n",
      "                                                                 \n",
      " dense_1 (Dense)             (None, 1)                 1001      \n",
      "                                                                 \n",
      "=================================================================\n",
      "Total params: 1,001\n",
      "Trainable params: 1,001\n",
      "Non-trainable params: 0\n",
      "_________________________________________________________________\n"
     ]
    },
    {
     "name": "stderr",
     "output_type": "stream",
     "text": [
      "D:\\miniconda\\envs\\tf_gpu\\lib\\site-packages\\keras\\optimizer_v2\\adam.py:105: UserWarning: The `lr` argument is deprecated, use `learning_rate` instead.\n",
      "  super(Adam, self).__init__(name, **kwargs)\n"
     ]
    }
   ],
   "source": [
    "act = 'tanh'\n",
    "config = [\n",
    "    ('conv', 2, 3),\n",
    "    ('pool', 2),\n",
    "    ('activation',act),\n",
    "    ('conv', 2, 3),\n",
    "    ('pool', 2),\n",
    "    ('activation',act),\n",
    "\n",
    "    ('conv', 16, 3),\n",
    "    ('pool', 2),\n",
    "    ('activation',act),\n",
    "\n",
    "    (\"conv\", 16, 3),\n",
    "    ('pool', 2),\n",
    "    ('activation',act),\n",
    "\n",
    "    (\"conv\", 64, 3),\n",
    "    ('pool', 2),\n",
    "    ('activation',act),\n",
    "\n",
    "    (\"conv\", 64, 3),\n",
    "    ('pool', 2),\n",
    "    ('activation',act),\n",
    "\n",
    "]\n",
    "# inp = __next = layers.Input(shape=[1280 * 720*10], name='input')\n",
    "inp = __next = layers.Input(shape=[1000], name='input')\n",
    "__next = layers.Reshape(target_shape=[1000, 1], name='reshape')(__next)\n",
    "\n",
    "\n",
    "__next = layers.Flatten()(__next)\n",
    "output = __next = layers.Dense(1, )(__next)\n",
    "model = keras.Model(inputs=[inp], outputs=[output])\n",
    "model.summary()\n",
    "# opt = tf.keras.optimizers.Adam(lr=1e-4)\n",
    "opt = tf.keras.optimizers.Adam(lr=1e-6)\n",
    "model.compile(\n",
    "    optimizer=opt,\n",
    "    # optimizer='adam',\n",
    "    loss='mse',\n",
    ")"
   ],
   "metadata": {
    "collapsed": false,
    "pycharm": {
     "name": "#%%\n"
    }
   }
  },
  {
   "cell_type": "code",
   "execution_count": 71,
   "outputs": [
    {
     "name": "stdout",
     "output_type": "stream",
     "text": [
      "66/66 [==============================] - 0s 1ms/step - loss: 1514276864.0000\b\b\b\b\b\b\b\b\b\b\b\b\b\b\b\b\b\b\b\b\b\b\b\b\b\b\b\b\b\b\b\b\b\b\b\b\b\b\b\b\b\b\b\b\b\b\b\b\b\b\b\b\b\b\b\b\b\b\b\b\b\b\b\b\b\b\b\b\b\b\b\b\b\b\b\b\b\b\b\b\b\b\b\b\b\b\b\b\b\b\b\b\b\b\b\b\b\b\b\b\b\b\b\b\b\b\b\b\b\b\b\b\b\b\b\b\b\b\b\b\b\b\b\b\b\b\b\b\b\b\b\b\b\b\b\b\b\b\b\b\b\b\n"
     ]
    }
   ],
   "source": [
    "history = model.fit(trainer.x, trainer.y,\n",
    "                    # validation_data=(X_test, Y_test)\n",
    "                    # epochs=50,\n",
    "                    # epochs=100,\n",
    "                    epochs=1,\n",
    "                    # epochs=300,\n",
    "                    )"
   ],
   "metadata": {
    "collapsed": false,
    "pycharm": {
     "name": "#%%\n"
    }
   }
  },
  {
   "cell_type": "code",
   "execution_count": 72,
   "outputs": [
    {
     "data": {
      "text/plain": "{'loss': [1514276864.0]}"
     },
     "execution_count": 72,
     "metadata": {},
     "output_type": "execute_result"
    }
   ],
   "source": [
    "history.history"
   ],
   "metadata": {
    "collapsed": false,
    "pycharm": {
     "name": "#%%\n"
    }
   }
  },
  {
   "cell_type": "code",
   "execution_count": 73,
   "outputs": [
    {
     "data": {
      "text/plain": "<Figure size 576x360 with 1 Axes>",
      "image/png": "[encoded data removed]"
     },
     "metadata": {
      "needs_background": "light"
     },
     "output_type": "display_data"
    },
    {
     "data": {
      "text/plain": "                   0            1            2            3          4   \\\npredict -14607.537109 -7011.375977 -3517.838623 -3498.419922 -26905.375   \ntruth        0.705000     0.379900     0.076600     0.127600      0.268   \ndiff    -14608.242109 -7011.755877 -3517.915223 -3498.547522 -26905.643   \n\n                  5             6             7            8             9   \\\npredict -38778.40625 -34814.261719 -19057.757812 -78769.59375 -10211.600586   \ntruth        0.37220      0.335000      0.420000      0.45000      0.452300   \ndiff    -38778.77845 -34814.596719 -19058.177812 -78770.04375 -10212.052886   \n\n                   10           11            12           13           14  \npredict -37192.683594 -3201.520508 -17539.777344 -5143.818359 -8682.732422  \ntruth        0.450000     0.015300      0.420000     0.303900     0.069500  \ndiff    -37193.133594 -3201.535808 -17540.197344 -5144.122259 -8682.801922  ",
      "text/html": "<div>\n<style scoped>\n    .dataframe tbody tr th:only-of-type {\n        vertical-align: middle;\n    }\n\n    .dataframe tbody tr th {\n        vertical-align: top;\n    }\n\n    .dataframe thead th {\n        text-align: right;\n    }\n</style>\n<table border=\"1\" class=\"dataframe\">\n  <thead>\n    <tr style=\"text-align: right;\">\n      <th></th>\n      <th>0</th>\n      <th>1</th>\n      <th>2</th>\n      <th>3</th>\n      <th>4</th>\n      <th>5</th>\n      <th>6</th>\n      <th>7</th>\n      <th>8</th>\n      <th>9</th>\n      <th>10</th>\n      <th>11</th>\n      <th>12</th>\n      <th>13</th>\n      <th>14</th>\n    </tr>\n  </thead>\n  <tbody>\n    <tr>\n      <th>predict</th>\n      <td>-14607.537109</td>\n      <td>-7011.375977</td>\n      <td>-3517.838623</td>\n      <td>-3498.419922</td>\n      <td>-26905.375</td>\n      <td>-38778.40625</td>\n      <td>-34814.261719</td>\n      <td>-19057.757812</td>\n      <td>-78769.59375</td>\n      <td>-10211.600586</td>\n      <td>-37192.683594</td>\n      <td>-3201.520508</td>\n      <td>-17539.777344</td>\n      <td>-5143.818359</td>\n      <td>-8682.732422</td>\n    </tr>\n    <tr>\n      <th>truth</th>\n      <td>0.705000</td>\n      <td>0.379900</td>\n      <td>0.076600</td>\n      <td>0.127600</td>\n      <td>0.268</td>\n      <td>0.37220</td>\n      <td>0.335000</td>\n      <td>0.420000</td>\n      <td>0.45000</td>\n      <td>0.452300</td>\n      <td>0.450000</td>\n      <td>0.015300</td>\n      <td>0.420000</td>\n      <td>0.303900</td>\n      <td>0.069500</td>\n    </tr>\n    <tr>\n      <th>diff</th>\n      <td>-14608.242109</td>\n      <td>-7011.755877</td>\n      <td>-3517.915223</td>\n      <td>-3498.547522</td>\n      <td>-26905.643</td>\n      <td>-38778.77845</td>\n      <td>-34814.596719</td>\n      <td>-19058.177812</td>\n      <td>-78770.04375</td>\n      <td>-10212.052886</td>\n      <td>-37193.133594</td>\n      <td>-3201.535808</td>\n      <td>-17540.197344</td>\n      <td>-5144.122259</td>\n      <td>-8682.801922</td>\n    </tr>\n  </tbody>\n</table>\n</div>"
     },
     "metadata": {},
     "output_type": "display_data"
    }
   ],
   "source": [
    "start_indice=0\n",
    "pd.DataFrame(history.history['loss'][start_indice:]).plot(figsize=(8, 5))\n",
    "# plt.grid(True)\n",
    "# plt.gca().set_ylim(0, 5e-4)\n",
    "plt.show()\n",
    "\n",
    "\n",
    "prediction = model.predict(trainer.x1)\n",
    "dict = {'predict': prediction[:15, 0],\n",
    "        'truth': trainer.y1[:15],\n",
    "        'diff': (prediction[:15, 0] - trainer.y1[:15])\n",
    "        }\n",
    "df = pd.DataFrame(dict)\n",
    "\n",
    "# displaying the DataFrame\n",
    "display(df.T)\n"
   ],
   "metadata": {
    "collapsed": false,
    "pycharm": {
     "name": "#%%\n"
    }
   }
  },
  {
   "cell_type": "code",
   "execution_count": 74,
   "outputs": [
    {
     "data": {
      "text/plain": "0.0"
     },
     "execution_count": 74,
     "metadata": {},
     "output_type": "execute_result"
    }
   ],
   "source": [
    "# 输出误差小于2.5度的百分比\n",
    "dif = prediction.reshape(-1, ) - trainer.y1\n",
    "\n",
    "np.sum((np.abs(dif) < 0.025)) / len(dif) * 100"
   ],
   "metadata": {
    "collapsed": false,
    "pycharm": {
     "name": "#%%\n"
    }
   }
  },
  {
   "cell_type": "code",
   "execution_count": 74,
   "outputs": [],
   "source": [],
   "metadata": {
    "collapsed": false,
    "pycharm": {
     "name": "#%%\n"
    }
   }
  },
  {
   "cell_type": "code",
   "execution_count": 74,
   "outputs": [],
   "source": [],
   "metadata": {
    "collapsed": false,
    "pycharm": {
     "name": "#%%\n"
    }
   }
  }
 ],
 "metadata": {
  "kernelspec": {
   "display_name": "Python 3",
   "language": "python",
   "name": "python3"
  },
  "language_info": {
   "codemirror_mode": {
    "name": "ipython",
    "version": 2
   },
   "file_extension": ".py",
   "mimetype": "text/x-python",
   "name": "python",
   "nbconvert_exporter": "python",
   "pygments_lexer": "ipython2",
   "version": "2.7.6"
  }
 },
 "nbformat": 4,
 "nbformat_minor": 0
}