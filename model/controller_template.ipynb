{
 "cells": [
  {
   "cell_type": "code",
   "execution_count": 1,
   "metadata": {},
   "outputs": [],
   "source": [
    "_project_name = \"model\""
   ]
  },
  {
   "cell_type": "code",
   "execution_count": 2,
   "metadata": {},
   "outputs": [
    {
     "name": "stderr",
     "output_type": "stream",
     "text": [
      "273MiB [02:09, 2.11MiB/s] \n"
     ]
    },
    {
     "name": "stdout",
     "output_type": "stream",
     "text": [
      "Destination path './model' already exists at model\n",
      "Destination path './.ipynb_checkpoints' already exists at .ipynb_checkpoints\n"
     ]
    }
   ],
   "source": [
    "def colab_download(proj_name,is_kaggle):\n",
    "    import requests\n",
    "    from tqdm import tqdm\n",
    "\n",
    "    if is_kaggle:\n",
    "        import sys\n",
    "        sys.path.append(\"/kaggle/working/\")\n",
    "\n",
    "    project_name=proj_name\n",
    "\n",
    "    url = f'http://kuroweb.tk:8000/api/v1/pack/wyftp/dataset/{project_name}.tar.gz'\n",
    "    user, password = 'wuying', '123aaa'\n",
    "    response = requests.get(url, stream=True,auth=(user, password))\n",
    "    total_size_in_bytes= int(response.headers.get('content-length', 0))\n",
    "    block_size = 1024 #1 Kibibyte\n",
    "    progress_bar = tqdm(total=total_size_in_bytes, unit='iB', unit_scale=True)\n",
    "    with open('download.tar.gz', 'wb') as file:\n",
    "        for data in response.iter_content(block_size):\n",
    "            progress_bar.update(len(data))\n",
    "            file.write(data)\n",
    "    progress_bar.close()\n",
    "    if total_size_in_bytes != 0 and progress_bar.n != total_size_in_bytes:\n",
    "        print(\"ERROR, something went wrong\")\n",
    "\n",
    "    import tarfile\n",
    "\n",
    "    # open file\n",
    "    file = tarfile.open('download.tar.gz')\n",
    "    # extracting file\n",
    "    file.extractall('./')\n",
    "    file.close()\n",
    "\n",
    "    import shutil\n",
    "    import os\n",
    "\n",
    "    source_dir = f'./{project_name}'\n",
    "    target_dir = './'\n",
    "\n",
    "    file_names = os.listdir(source_dir)\n",
    "\n",
    "    for file_name in file_names:\n",
    "        try:\n",
    "            shutil.move(os.path.join(source_dir, file_name), target_dir)\n",
    "        except Exception as e:\n",
    "            print(e,'at',file_name)\n",
    "\n",
    "colab_download(_project_name,True)\n",
    "!rm download.tar.gz\n"
   ]
  },
  {
   "cell_type": "code",
   "execution_count": 3,
   "metadata": {},
   "outputs": [
    {
     "name": "stdout",
     "output_type": "stream",
     "text": [
      "Reading package lists... Done\n",
      "Building dependency tree       \n",
      "Reading state information... Done\n",
      "The following NEW packages will be installed:\n",
      "  sshpass\n",
      "0 upgraded, 1 newly installed, 0 to remove and 32 not upgraded.\n",
      "Need to get 10.5 kB of archives.\n",
      "After this operation, 30.7 kB of additional disk space will be used.\n",
      "Get:1 http://archive.ubuntu.com/ubuntu focal/universe amd64 sshpass amd64 1.06-1 [10.5 kB]\n",
      "Fetched 10.5 kB in 0s (28.6 kB/s)\n",
      "\n",
      "\u001b7\u001b[0;23r\u001b8\u001b[1ASelecting previously unselected package sshpass.\n",
      "(Reading database ... 105226 files and directories currently installed.)\n",
      "Preparing to unpack .../sshpass_1.06-1_amd64.deb ...\n",
      "\u001b7\u001b[24;0f\u001b[42m\u001b[30mProgress: [  0%]\u001b[49m\u001b[39m [..........................................................] \u001b8\u001b7\u001b[24;0f\u001b[42m\u001b[30mProgress: [ 20%]\u001b[49m\u001b[39m [###########...............................................] \u001b8Unpacking sshpass (1.06-1) ...\n",
      "\u001b7\u001b[24;0f\u001b[42m\u001b[30mProgress: [ 40%]\u001b[49m\u001b[39m [#######################...................................] \u001b8Setting up sshpass (1.06-1) ...\n",
      "\u001b7\u001b[24;0f\u001b[42m\u001b[30mProgress: [ 60%]\u001b[49m\u001b[39m [##################################........................] \u001b8\u001b7\u001b[24;0f\u001b[42m\u001b[30mProgress: [ 80%]\u001b[49m\u001b[39m [##############################################............] \u001b8Processing triggers for man-db (2.9.1-1) ...\n",
      "\n",
      "\u001b7\u001b[0;24r\u001b8\u001b[1A\u001b[JWarning: Permanently added 'kuroweb.tk,204.44.93.41' (ECDSA) to the list of known hosts.\n",
      "receiving incremental file list\n",
      "model/converted_model.tflite\n",
      "      2,905,092 100%    3.54MB/s    0:00:00 (xfr#1, to-chk=920/36462)\n",
      "model/converting-tmp.onnx\n",
      "      2,902,480 100%    2.83MB/s    0:00:00 (xfr#2, to-chk=919/36462)\n",
      "model/converting-tmp.pth\n",
      "      2,903,873 100%    2.32MB/s    0:00:01 (xfr#3, to-chk=918/36462)\n",
      "model/tf_fcl.h5\n",
      "        200,064 100%  934.81kB/s    0:00:00 (xfr#4, to-chk=917/36462)\n",
      "model/torch_model_mlp_class_15.pth\n",
      "      2,903,873 100%    6.82MB/s    0:00:00 (xfr#5, to-chk=916/36462)\n",
      "model/converted_model/\n",
      "model/converted_model/saved_model.pb\n",
      "      2,945,576 100%    4.56MB/s    0:00:00 (xfr#6, to-chk=914/36462)\n",
      "model/converted_model/assets/\n",
      "model/converted_model/variables/\n",
      "model/converted_model/variables/variables.data-00000-of-00001\n",
      "            194 100%    0.31kB/s    0:00:00 (xfr#7, to-chk=911/36462)\n",
      "model/converted_model/variables/variables.index\n",
      "            145 100%    0.23kB/s    0:00:00 (xfr#8, to-chk=910/36462)\n",
      "\n",
      "sent 1,048 bytes  received 15,450,006 bytes  1,065,589.93 bytes/sec\n",
      "total size is 492,309,047  speedup is 31.86\n",
      "------sync spend ----->  15.537922620773315 s\n"
     ]
    }
   ],
   "source": [
    "!test -e ~/.kagglesshpass && echo installed || (apt install sshpass && echo installing> ~/.kagglesshpass)\n",
    "import time,os\n",
    "start_transfer=time.time()\n",
    "assert os.path.exists('password.txt'),'you must have password here'\n",
    "get_ipython().system(f'rsync -vrP --size-only root@kuroweb.tk:/wyftp/dataset/{_project_name}/* /kaggle/working/ -e \"sshpass -f \"password.txt\" ssh -o StrictHostKeyChecking=no\"')\n",
    "print('------sync spend -----> ',time.time()-start_transfer,'s')"
   ]
  }
 ],
 "metadata": {
  "interpreter": {
   "hash": "a42579e49751352c260acb8a961a7e5a6467153a056d5503dc065206adeac815"
  },
  "kernelspec": {
   "display_name": "Python 3 (ipykernel)",
   "language": "python",
   "name": "python3"
  },
  "language_info": {
   "codemirror_mode": {
    "name": "ipython",
    "version": 3
   },
   "file_extension": ".py",
   "mimetype": "text/x-python",
   "name": "python",
   "nbconvert_exporter": "python",
   "pygments_lexer": "ipython3",
   "version": "3.7.12"
  },
  "orig_nbformat": 4
 },
 "nbformat": 4,
 "nbformat_minor": 2
}
