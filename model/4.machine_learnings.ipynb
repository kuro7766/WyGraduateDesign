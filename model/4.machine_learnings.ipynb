{
 "cells": [
  {
   "cell_type": "code",
   "execution_count": 701,
   "outputs": [],
   "source": [
    "bar_x=[]\n",
    "bar_y=[]\n",
    "\n",
    "time_x=[]\n",
    "time_y=[]"
   ],
   "metadata": {
    "collapsed": false,
    "pycharm": {
     "name": "#%%\n"
    }
   }
  },
  {
   "cell_type": "code",
   "execution_count": 782,
   "outputs": [
    {
     "name": "stdout",
     "output_type": "stream",
     "text": [
      "pip 22.0.3 from D:\\miniconda\\envs\\tf_gpu\\lib\\site-packages\\pip (python 3.7)\n",
      "\n"
     ]
    }
   ],
   "source": [
    "import time\n",
    "!pip --version\n",
    "import os\n",
    "from sklearn.decomposition import PCA\n",
    "\n",
    "from sklearn.svm import SVC\n",
    "from sklearn.datasets import load_iris\n",
    "from sklite import LazyExport\n",
    "\n",
    "\n",
    "import json\n",
    "\n",
    "import numpy as np\n",
    "import seaborn as sns\n",
    "\n",
    "# record start time\n",
    "import pandas as pd\n",
    "import torch\n",
    "from IPython.core.display import display\n",
    "from keras import layers\n",
    "# residual block\n",
    "# https://stackoverflow.com/questions/64792460/how-to-code-a-residual-block-using-two-layers-of-a-basic-cnn-algorithm-built-wit\n",
    "from tensorflow import keras\n",
    "import tensorflow as tf\n",
    "import matplotlib.pyplot as plt\n",
    "from torch.utils.data import DataLoader\n",
    "\n",
    "from general_model.grow_numpy import GrowableNumpyArray\n",
    "from general_model.list_batch_loader import ListBatchLoadDataset\n",
    "from model_helper.single_gpu_dataloader import SingleGpuTensorWrapper\n",
    "from pytorch_regression.regression_params import RegressionParams\n",
    "from tool import ml, wine_tool, data_loader, wine_data_loader\n",
    "from tool.dbg import dbg"
   ],
   "metadata": {
    "collapsed": false,
    "pycharm": {
     "name": "#%%\n"
    }
   }
  },
  {
   "cell_type": "code",
   "execution_count": 783,
   "outputs": [
    {
     "data": {
      "text/plain": "(740, 1000)"
     },
     "execution_count": 783,
     "metadata": {},
     "output_type": "execute_result"
    }
   ],
   "source": [
    "x_all_pre, y_all_pre = wine_data_loader.get_data3(use_onehot=False)\n",
    "x_all_pre.shape\n"
   ],
   "metadata": {
    "collapsed": false,
    "pycharm": {
     "name": "#%%\n"
    }
   }
  },
  {
   "cell_type": "markdown",
   "source": [
    "# Agumented data"
   ],
   "metadata": {
    "collapsed": false,
    "pycharm": {
     "name": "#%% md\n"
    }
   }
  },
  {
   "cell_type": "code",
   "execution_count": 784,
   "outputs": [],
   "source": [
    "import random\n",
    "\n",
    "\n",
    "def shuffle_along_axis(a, axis):\n",
    "    idx = np.random.rand(*a.shape).argsort(axis=axis)\n",
    "    return np.take_along_axis(a,idx,axis=axis)\n",
    "\n",
    "class WineDataAugmentation:\n",
    "    def __init__(self, xs: np.array, ys: np.array):\n",
    "        self.xs = xs\n",
    "        self.ys = ys\n",
    "\n",
    "\n",
    "    def generate(self, size=2):\n",
    "        new_size = self.xs.shape[0] * size\n",
    "        # numpy拷贝xs和ys到size倍\n",
    "\n",
    "        xs=np.repeat(self.xs, size, axis=0)\n",
    "        ys=np.repeat(self.ys, size, axis=0)\n",
    "\n",
    "        # xs [batch * 1000]\n",
    "        # 对xs中的第一个维度随机乘以0.1-1.0之间的数\n",
    "        xs = xs * np.random.uniform(0.9, 1.1, size=(new_size, 1))\n",
    "\n",
    "        # 加入-300~300的噪音\n",
    "        # noise = np.random.random((new_size, self.xs.shape[1]))\n",
    "        # noise = noise * 10000\n",
    "        # print(noise)\n",
    "        # print(np.ptp(noise, axis=1).shape)\n",
    "        # print(np.ptp(noise, axis=1))\n",
    "        # return\n",
    "        # xs = xs + noise\n",
    "        # # 每个样本减去自己的最小值\n",
    "        # xs = xs - np.min(xs, axis=1).reshape(-1, 1)\n",
    "        dbg(xs.shape)\n",
    "\n",
    "        for i in range(xs.shape[0]):\n",
    "            this_tensor=xs[i]\n",
    "            # r= random [-200,200]\n",
    "            r=random.randint(-50,50)\n",
    "            # r=random.randint(-500,500)\n",
    "            # dbg(r)\n",
    "            if r<0:\n",
    "                r=-r\n",
    "                xs[i][:1000-r]=this_tensor[r:1000]\n",
    "                xs[i][1000-r:]=this_tensor[1000-r-1]\n",
    "            else:\n",
    "                xs[i][r:1000]=this_tensor[:1000-r]\n",
    "                xs[i][:r]=this_tensor[r]\n",
    "        # xs=xs[0:50]\n",
    "        # xs=xs[50:100]\n",
    "        # xs=xs[0:100]\n",
    "        # dbg('0',xs[:,:5])\n",
    "        # xs=shuffle_along_axis(xs, axis=0)\n",
    "        # dbg('1',xs[:,:5])\n",
    "        return xs, ys"
   ],
   "metadata": {
    "collapsed": false,
    "pycharm": {
     "name": "#%%\n"
    }
   }
  },
  {
   "cell_type": "code",
   "execution_count": 785,
   "outputs": [
    {
     "data": {
      "text/plain": "(740, 1000)"
     },
     "execution_count": 785,
     "metadata": {},
     "output_type": "execute_result"
    }
   ],
   "source": [
    "# x_all_augmented,y_all_augmented = WineDataAugmentation(x_all_pre,y_all_pre).generate(1)\n",
    "x_all_augmented,y_all_augmented = (x_all_pre,y_all_pre)\n",
    "x_all_augmented.shape"
   ],
   "metadata": {
    "collapsed": false,
    "pycharm": {
     "name": "#%%\n"
    }
   }
  },
  {
   "cell_type": "code",
   "execution_count": 786,
   "outputs": [
    {
     "data": {
      "text/plain": "((740, 1000), (740,))"
     },
     "execution_count": 786,
     "metadata": {},
     "output_type": "execute_result"
    }
   ],
   "source": [
    "x_all_pre.shape,y_all_pre.shape"
   ],
   "metadata": {
    "collapsed": false,
    "pycharm": {
     "name": "#%%\n"
    }
   }
  },
  {
   "cell_type": "code",
   "execution_count": 787,
   "outputs": [
    {
     "data": {
      "text/plain": "((148, 1000), (148,))"
     },
     "execution_count": 787,
     "metadata": {},
     "output_type": "execute_result"
    }
   ],
   "source": [
    "_,_,x_all_pre_test,y_all_pre_test = wine_data_loader.split(x_all_pre,y_all_pre,0.2)\n",
    "x_all_pre_test.shape,y_all_pre_test.shape"
   ],
   "metadata": {
    "collapsed": false,
    "pycharm": {
     "name": "#%%\n"
    }
   }
  },
  {
   "cell_type": "code",
   "execution_count": 788,
   "outputs": [],
   "source": [
    "# for i in range(70,100,2):\n",
    "#     plt.plot(x_all_pre[i],'b-')\n",
    "#     plt.show()"
   ],
   "metadata": {
    "collapsed": false,
    "pycharm": {
     "name": "#%%\n"
    }
   }
  },
  {
   "cell_type": "code",
   "execution_count": 789,
   "outputs": [
    {
     "name": "stdout",
     "output_type": "stream",
     "text": [
      "(1000,)\n",
      "(1000,)\n",
      "(1000,)\n",
      "(1000,)\n",
      "(1000,)\n"
     ]
    },
    {
     "data": {
      "text/plain": "<Figure size 432x288 with 1 Axes>",
      "image/png": "[encoded data removed]"
     },
     "metadata": {
      "needs_background": "light"
     },
     "output_type": "display_data"
    }
   ],
   "source": [
    "to_print=(35,40)\n",
    "for i in range(*to_print):\n",
    "    plt.plot(x_all_pre[i],'b-')\n",
    "for i in range(*to_print):\n",
    "    dbg(x_all_augmented[i].shape)\n",
    "    plt.plot(x_all_augmented[i],'r-')\n",
    "    # dbg(x_all_augmented[i])\n",
    "# plt.plot(x_all_augmented[0],'r-')\n",
    "# plt.plot(x_all_augmented[0]-x_all_pre[0],'g-')\n",
    "plt.show()\n"
   ],
   "metadata": {
    "collapsed": false,
    "pycharm": {
     "name": "#%%\n"
    }
   }
  },
  {
   "cell_type": "code",
   "source": [
    "y_all=y_all_augmented"
   ],
   "metadata": {
    "collapsed": false,
    "pycharm": {
     "name": "#%%\n"
    }
   },
   "execution_count": 790,
   "outputs": []
  },
  {
   "cell_type": "markdown",
   "source": [
    "PCA\n",
    "-  or lda，处理x数据"
   ],
   "metadata": {
    "collapsed": false,
    "pycharm": {
     "name": "#%% md\n"
    }
   }
  },
  {
   "cell_type": "code",
   "execution_count": 791,
   "outputs": [],
   "source": [
    "# pca = PCA(n_components=5)\n",
    "#\n",
    "# # https://stackoverflow.com/questions/31107945/how-to-perform-prediction-with-lda-linear-discriminant-in-scikit-learn\n",
    "# # fit fit_transform和transform的关系\n",
    "# x_all = pca.fit_transform(x_all_augmented)\n",
    "# print(x_all.shape)\n",
    "# print(pca.explained_variance_ratio_)\n",
    "#\n",
    "# # history.history是个字典：列表的数据\n",
    "# pd.DataFrame({\n",
    "#     'pca': pca.explained_variance_ratio_,\n",
    "# }).plot(figsize=(8, 5))\n",
    "# plt.show()"
   ],
   "metadata": {
    "collapsed": false,
    "pycharm": {
     "name": "#%%\n"
    }
   }
  },
  {
   "cell_type": "markdown",
   "source": [
    "LDA"
   ],
   "metadata": {
    "collapsed": false
   }
  },
  {
   "cell_type": "code",
   "execution_count": 792,
   "outputs": [],
   "source": [
    "x_all_augmented_train,y_all_augmented_train,x_all_augmented_test,y_all_augmented_test = wine_data_loader.split(x_all_augmented,y_all_augmented, 0.2)"
   ],
   "metadata": {
    "collapsed": false,
    "pycharm": {
     "name": "#%%\n"
    }
   }
  },
  {
   "cell_type": "code",
   "execution_count": 793,
   "outputs": [
    {
     "name": "stdout",
     "output_type": "stream",
     "text": [
      "(592, 5)\n",
      "[0.36884992 0.18429756 0.14095551 0.12337017 0.07883306]\n"
     ]
    },
    {
     "data": {
      "text/plain": "<Figure size 576x360 with 1 Axes>",
      "image/png": "[encoded data removed]"
     },
     "metadata": {
      "needs_background": "light"
     },
     "output_type": "display_data"
    }
   ],
   "source": [
    "from sklearn.discriminant_analysis import LinearDiscriminantAnalysis as LDA\n",
    "\n",
    "lda = LDA(n_components=5)\n",
    "\n",
    "# https://stackoverflow.com/questions/31107945/how-to-perform-prediction-with-lda-linear-discriminant-in-scikit-learn\n",
    "# fit fit_transform和transform的关系\n",
    "lda = lda.fit(x_all_augmented_train,y_all_augmented_train)\n",
    "x_all = lda.transform(x_all_augmented_train)\n",
    "\n",
    "x_test = lda.transform(x_all_pre_test)\n",
    "\n",
    "print(x_all.shape)\n",
    "print(lda.explained_variance_ratio_)\n",
    "pd.DataFrame({\n",
    "    'lda': lda.explained_variance_ratio_,\n",
    "}).plot(figsize=(8, 5))\n",
    "plt.show()\n",
    "\n",
    "x,y,x1,y1 = x_all,y_all_augmented_train,x_test,y_all_pre_test"
   ],
   "metadata": {
    "collapsed": false,
    "pycharm": {
     "name": "#%%\n"
    }
   }
  },
  {
   "cell_type": "markdown",
   "source": [
    "# train test split"
   ],
   "metadata": {
    "collapsed": false,
    "pycharm": {
     "name": "#%% md\n"
    }
   }
  },
  {
   "cell_type": "code",
   "source": [
    "# x, y, x1, y1 = wine_data_loader.split(x_all,y_all, 0.2)\n"
   ],
   "metadata": {
    "collapsed": false,
    "pycharm": {
     "name": "#%%\n"
    }
   },
   "execution_count": 794,
   "outputs": []
  },
  {
   "cell_type": "code",
   "execution_count": 795,
   "outputs": [],
   "source": [
    "# bar_x=[]\n",
    "# bar_y=[]\n",
    "#\n",
    "# time_x=[]\n",
    "# time_y=[]\n"
   ],
   "metadata": {
    "collapsed": false,
    "pycharm": {
     "name": "#%%\n"
    }
   }
  },
  {
   "cell_type": "code",
   "execution_count": 796,
   "outputs": [
    {
     "data": {
      "text/plain": "(592, 5)"
     },
     "execution_count": 796,
     "metadata": {},
     "output_type": "execute_result"
    }
   ],
   "source": [
    "x.shape"
   ],
   "metadata": {
    "collapsed": false,
    "pycharm": {
     "name": "#%%\n"
    }
   }
  },
  {
   "cell_type": "code",
   "execution_count": 797,
   "outputs": [],
   "source": [
    "# augmentation\n",
    "# repeats = 50\n",
    "# x=np.repeat(x,repeats,axis=0)\n",
    "# y=np.repeat(y,repeats,axis=0)"
   ],
   "metadata": {
    "collapsed": false,
    "pycharm": {
     "name": "#%%\n"
    }
   }
  },
  {
   "cell_type": "code",
   "execution_count": 798,
   "outputs": [
    {
     "data": {
      "text/plain": "(592,)"
     },
     "execution_count": 798,
     "metadata": {},
     "output_type": "execute_result"
    }
   ],
   "source": [
    "y.shape"
   ],
   "metadata": {
    "collapsed": false,
    "pycharm": {
     "name": "#%%\n"
    }
   }
  },
  {
   "cell_type": "markdown",
   "source": [
    "# SVC MODEL"
   ],
   "metadata": {
    "collapsed": false,
    "pycharm": {
     "name": "#%% md\n"
    }
   }
  },
  {
   "cell_type": "code",
   "execution_count": 799,
   "outputs": [
    {
     "data": {
      "text/plain": "dtype('int32')"
     },
     "execution_count": 799,
     "metadata": {},
     "output_type": "execute_result"
    }
   ],
   "source": [
    "y.dtype"
   ],
   "metadata": {
    "collapsed": false,
    "pycharm": {
     "name": "#%%\n"
    }
   }
  },
  {
   "cell_type": "code",
   "execution_count": 800,
   "outputs": [
    {
     "data": {
      "text/plain": "0.9121621621621622"
     },
     "execution_count": 800,
     "metadata": {},
     "output_type": "execute_result"
    }
   ],
   "source": [
    "clf = SVC()\n",
    "clf.fit(x, y)\n",
    "start = time.time()\n",
    "val_results=clf.predict(x1)\n",
    "end = time.time()\n",
    "time_x.append('SVM')\n",
    "time_y.append(end-start)\n",
    "svm_score=(np.average(val_results.astype(int)==y1.astype(int)))\n",
    "svm_score\n",
    "# val_results"
   ],
   "metadata": {
    "collapsed": false,
    "pycharm": {
     "name": "#%%\n"
    }
   }
  },
  {
   "cell_type": "code",
   "execution_count": 801,
   "outputs": [],
   "source": [
    "bar_x.append('SVM')\n",
    "bar_y.append(svm_score)"
   ],
   "metadata": {
    "collapsed": false,
    "pycharm": {
     "name": "#%%\n"
    }
   }
  },
  {
   "cell_type": "code",
   "execution_count": 802,
   "outputs": [],
   "source": [
    "lazy = LazyExport(clf)\n",
    "\n",
    "model_save_path='model/svciris.json'\n",
    "if os.path.exists(model_save_path):\n",
    "    os.remove(model_save_path)\n",
    "lazy.save(model_save_path)\n"
   ],
   "metadata": {
    "collapsed": false,
    "pycharm": {
     "name": "#%%\n"
    }
   }
  },
  {
   "cell_type": "markdown",
   "source": [
    "# knn model"
   ],
   "metadata": {
    "collapsed": false,
    "pycharm": {
     "name": "#%% md\n"
    }
   }
  },
  {
   "cell_type": "code",
   "execution_count": 803,
   "outputs": [],
   "source": [
    "from sklearn.neighbors import KNeighborsClassifier\n",
    "\n",
    "knn = KNeighborsClassifier(n_neighbors=5)\n",
    "knn.fit(x,y)\n",
    "\n",
    "start=time.time()\n",
    "val_results=knn.predict(x1)\n",
    "end=time.time()\n",
    "time_x.append('KNN')\n",
    "time_y.append(end-start)\n",
    "knn_time=end-start\n",
    "\n",
    "# val_results"
   ],
   "metadata": {
    "collapsed": false,
    "pycharm": {
     "name": "#%%\n"
    }
   }
  },
  {
   "cell_type": "code",
   "execution_count": 804,
   "outputs": [
    {
     "data": {
      "text/plain": "0.9121621621621622"
     },
     "execution_count": 804,
     "metadata": {},
     "output_type": "execute_result"
    }
   ],
   "source": [
    "knn_score=(np.average(val_results.astype(int)==y1.astype(int)))\n",
    "knn_score"
   ],
   "metadata": {
    "collapsed": false,
    "pycharm": {
     "name": "#%%\n"
    }
   }
  },
  {
   "cell_type": "code",
   "execution_count": 805,
   "outputs": [],
   "source": [
    "# lazy = LazyExport(knn)\n",
    "#\n",
    "# model_save_path='model/knn.json'\n",
    "# if os.path.exists(model_save_path):\n",
    "#     os.remove(model_save_path)\n",
    "# lazy.save(model_save_path)"
   ],
   "metadata": {
    "collapsed": false,
    "pycharm": {
     "name": "#%%\n"
    }
   }
  },
  {
   "cell_type": "markdown",
   "source": [
    "## why not knn?(用来提出我们的深度学习模型)\n",
    "\n",
    "参数量过大，加载时间太长\n",
    "\n",
    "如果把参数量降低到，60组数据时，精确度大概降低到了90左右，但是即使如此，参数在6万左右\n"
   ],
   "metadata": {
    "collapsed": false,
    "pycharm": {
     "name": "#%% md\n"
    }
   }
  },
  {
   "cell_type": "code",
   "execution_count": 806,
   "outputs": [],
   "source": [
    "# knn_json=ml.read_json('model/knn.json')\n",
    "# 'knn length ',knn_json['_fit_X'].__len__() # shape [666,1000]"
   ],
   "metadata": {
    "collapsed": false,
    "pycharm": {
     "name": "#%%\n"
    }
   }
  },
  {
   "cell_type": "code",
   "execution_count": 807,
   "outputs": [],
   "source": [
    "bar_x.append('KNN')\n",
    "bar_y.append(knn_score)"
   ],
   "metadata": {
    "collapsed": false,
    "pycharm": {
     "name": "#%%\n"
    }
   }
  },
  {
   "cell_type": "markdown",
   "source": [
    "# xgboost model\n"
   ],
   "metadata": {
    "collapsed": false,
    "pycharm": {
     "name": "#%% md\n"
    }
   }
  },
  {
   "cell_type": "code",
   "execution_count": 808,
   "outputs": [
    {
     "name": "stderr",
     "output_type": "stream",
     "text": [
      "D:\\miniconda\\envs\\tf_gpu\\lib\\site-packages\\xgboost\\sklearn.py:1224: UserWarning: The use of label encoder in XGBClassifier is deprecated and will be removed in a future release. To remove this warning, do the following: 1) Pass option use_label_encoder=False when constructing XGBClassifier object; and 2) Encode your labels (y) as integers starting with 0, i.e. 0, 1, 2, ..., [num_class - 1].\n",
      "  warnings.warn(label_encoder_deprecation_msg, UserWarning)\n"
     ]
    },
    {
     "name": "stdout",
     "output_type": "stream",
     "text": [
      "[15:40:48] WARNING: C:/Users/Administrator/workspace/xgboost-win64_release_1.5.1/src/learner.cc:1115: Starting in XGBoost 1.3.0, the default evaluation metric used with the objective 'multi:softprob' was changed from 'merror' to 'mlogloss'. Explicitly set eval_metric if you'd like to restore the old behavior.\n"
     ]
    }
   ],
   "source": [
    "import xgboost as xgb\n",
    "\n",
    "xgb_model = xgb.XGBClassifier(random_state=42)\n",
    "xgb_model.fit(x, y)\n",
    "\n",
    "start=time.time()\n",
    "val_results = xgb_model.predict(x1)\n",
    "end=time.time()\n",
    "time_x.append('XGB')\n",
    "time_y.append(end-start)"
   ],
   "metadata": {
    "collapsed": false,
    "pycharm": {
     "name": "#%%\n"
    }
   }
  },
  {
   "cell_type": "code",
   "execution_count": 809,
   "outputs": [
    {
     "data": {
      "text/plain": "0.7567567567567568"
     },
     "execution_count": 809,
     "metadata": {},
     "output_type": "execute_result"
    }
   ],
   "source": [
    "xgb_score=(np.average(val_results.astype(int)==y1.astype(int)))\n",
    "xgb_score"
   ],
   "metadata": {
    "collapsed": false,
    "pycharm": {
     "name": "#%%\n"
    }
   }
  },
  {
   "cell_type": "code",
   "execution_count": 810,
   "outputs": [
    {
     "data": {
      "text/plain": "<Figure size 2160x2160 with 1 Axes>",
      "image/png": "[encoded data removed]"
     },
     "metadata": {
      "needs_background": "light"
     },
     "output_type": "display_data"
    }
   ],
   "source": [
    "fig, ax = plt.subplots(figsize=(30, 30))\n",
    "xgb.plot_tree(xgb_model, num_trees=4, ax=ax)\n",
    "plt.show()"
   ],
   "metadata": {
    "collapsed": false,
    "pycharm": {
     "name": "#%%\n"
    }
   }
  },
  {
   "cell_type": "code",
   "execution_count": 811,
   "outputs": [],
   "source": [
    "bar_x.append('XGB')\n",
    "bar_y.append(xgb_score)"
   ],
   "metadata": {
    "collapsed": false,
    "pycharm": {
     "name": "#%%\n"
    }
   }
  },
  {
   "cell_type": "markdown",
   "source": [
    "# Neural Network"
   ],
   "metadata": {
    "collapsed": false,
    "pycharm": {
     "name": "#%% md\n"
    }
   }
  },
  {
   "cell_type": "code",
   "execution_count": 812,
   "outputs": [],
   "source": [
    "# tf.debugging.set_log_device_placement(True)\n",
    "tf.debugging.set_log_device_placement(False)"
   ],
   "metadata": {
    "collapsed": false,
    "pycharm": {
     "name": "#%%\n"
    }
   }
  },
  {
   "cell_type": "code",
   "execution_count": 813,
   "outputs": [
    {
     "data": {
      "text/plain": "(148, 1000)"
     },
     "execution_count": 813,
     "metadata": {},
     "output_type": "execute_result"
    }
   ],
   "source": [
    "x_all_augmented_test.shape"
   ],
   "metadata": {
    "collapsed": false,
    "pycharm": {
     "name": "#%%\n"
    }
   }
  },
  {
   "cell_type": "code",
   "execution_count": 814,
   "outputs": [
    {
     "data": {
      "text/plain": "0.972972972972973"
     },
     "execution_count": 814,
     "metadata": {},
     "output_type": "execute_result"
    }
   ],
   "source": [
    "new_model = tf.keras.models.load_model('model/tf_fcl.h5')\n",
    "start= time.time()\n",
    "prediction=new_model.predict(x_all_pre_test)\n",
    "end=time.time()\n",
    "time_x.append('NN')\n",
    "time_y.append(end-start)\n",
    "\n",
    "bar_x.append('NN')\n",
    "bar_y.append(np.average(tf.argmax(prediction, axis=1)==y_all_pre_test))\n",
    "np.average(tf.argmax(prediction, axis=1)==y_all_pre_test)\n"
   ],
   "metadata": {
    "collapsed": false,
    "pycharm": {
     "name": "#%%\n"
    }
   }
  },
  {
   "cell_type": "code",
   "execution_count": 815,
   "outputs": [
    {
     "name": "stdout",
     "output_type": "stream",
     "text": [
      "Num GPUs Available:  1\n"
     ]
    }
   ],
   "source": [
    "import tensorflow as tf\n",
    "print(\"Num GPUs Available: \", len(tf.config.list_physical_devices('GPU')))"
   ],
   "metadata": {
    "collapsed": false,
    "pycharm": {
     "name": "#%%\n"
    }
   }
  },
  {
   "cell_type": "code",
   "execution_count": 816,
   "outputs": [
    {
     "data": {
      "text/plain": "[(0.5, 1.0)]"
     },
     "execution_count": 816,
     "metadata": {},
     "output_type": "execute_result"
    },
    {
     "data": {
      "text/plain": "<Figure size 432x288 with 1 Axes>",
      "image/png": "[encoded data removed]"
     },
     "metadata": {
      "needs_background": "light"
     },
     "output_type": "display_data"
    }
   ],
   "source": [
    "ax=sns.barplot(x=bar_x, y=bar_y)\n",
    "ax.set(ylim=(0.5, 1))\n",
    "# ax.set(ylim=(0.7, 1))"
   ],
   "metadata": {
    "collapsed": false,
    "pycharm": {
     "name": "#%%\n"
    }
   }
  },
  {
   "cell_type": "code",
   "source": [
    "sns.barplot(x=time_x, y=time_y)"
   ],
   "metadata": {
    "collapsed": false,
    "pycharm": {
     "name": "#%%\n"
    }
   },
   "execution_count": 817,
   "outputs": [
    {
     "data": {
      "text/plain": "<AxesSubplot:>"
     },
     "execution_count": 817,
     "metadata": {},
     "output_type": "execute_result"
    },
    {
     "data": {
      "text/plain": "<Figure size 432x288 with 1 Axes>",
      "image/png": "[encoded data removed]"
     },
     "metadata": {
      "needs_background": "light"
     },
     "output_type": "display_data"
    }
   ]
  },
  {
   "cell_type": "code",
   "execution_count": 818,
   "outputs": [],
   "source": [
    "# import numpy as np\n",
    "# a=np.zeros((100,))\n",
    "# a.shape"
   ],
   "metadata": {
    "collapsed": false,
    "pycharm": {
     "name": "#%%\n"
    }
   }
  },
  {
   "cell_type": "code",
   "execution_count": 819,
   "outputs": [],
   "source": [
    "# a[:40]=1"
   ],
   "metadata": {
    "collapsed": false,
    "pycharm": {
     "name": "#%%\n"
    }
   }
  },
  {
   "cell_type": "code",
   "execution_count": 820,
   "outputs": [],
   "source": [
    "# from sklearn.cross_decomposition import PLSRegression\n",
    "# X = [[0., 0., 1.], [1.,0.,0.], [2.,2.,2.], [2.,5.,4.]]\n",
    "# Y = [1,2,3,4]\n",
    "# pls2 = PLSRegression(n_components=1)\n",
    "#\n",
    "# Y_pred = pls2.fit_transform(X,Y)\n",
    "#"
   ],
   "metadata": {
    "collapsed": false,
    "pycharm": {
     "name": "#%%\n"
    }
   }
  },
  {
   "cell_type": "code",
   "execution_count": 821,
   "outputs": [],
   "source": [
    "# Y_pred"
   ],
   "metadata": {
    "collapsed": false,
    "pycharm": {
     "name": "#%%\n"
    }
   }
  },
  {
   "cell_type": "code",
   "execution_count": 821,
   "outputs": [],
   "source": [],
   "metadata": {
    "collapsed": false,
    "pycharm": {
     "name": "#%%\n"
    }
   }
  }
 ],
 "metadata": {
  "kernelspec": {
   "display_name": "Python 3",
   "language": "python",
   "name": "python3"
  },
  "language_info": {
   "codemirror_mode": {
    "name": "ipython",
    "version": 2
   },
   "file_extension": ".py",
   "mimetype": "text/x-python",
   "name": "python",
   "nbconvert_exporter": "python",
   "pygments_lexer": "ipython2",
   "version": "2.7.6"
  }
 },
 "nbformat": 4,
 "nbformat_minor": 0
}