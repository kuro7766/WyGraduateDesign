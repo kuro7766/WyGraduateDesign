{
 "cells": [
  {
   "cell_type": "code",
   "execution_count": 1,
   "metadata": {
    "collapsed": true
   },
   "outputs": [],
   "source": [
    "import os\n",
    "\n",
    "os.environ['CUDA_VISIBLE_DEVICES'] = '-1'\n",
    "# os.environ['TF_FORCE_GPU_ALLOW_GROWTH'] = 'true'"
   ]
  },
  {
   "cell_type": "code",
   "execution_count": 2,
   "outputs": [],
   "source": [
    "def colab_download(proj_name,is_kaggle):\n",
    "    import requests\n",
    "    if is_kaggle:\n",
    "        import sys\n",
    "        sys.path.append(\"/kaggle/working/\")\n",
    "\n",
    "    project_name=proj_name\n",
    "\n",
    "    url = f'http://kuroweb.tk:8000/api/v1/pack/wyftp/dataset/{project_name}.tar.gz'\n",
    "    user, password = 'wuying', '123aaa'\n",
    "    resp = requests.get(url, auth=(user, password))\n",
    "    # write to file\n",
    "    with open('download.tar.gz', 'wb') as f:\n",
    "        f.write(resp.content)\n",
    "    import tarfile\n",
    "\n",
    "    # open file\n",
    "    file = tarfile.open('download.tar.gz')\n",
    "    # extracting file\n",
    "    file.extractall('./')\n",
    "    file.close()\n",
    "\n",
    "    import shutil\n",
    "    import os\n",
    "\n",
    "    source_dir = f'./{project_name}'\n",
    "    target_dir = './'\n",
    "\n",
    "    file_names = os.listdir(source_dir)\n",
    "\n",
    "    for file_name in file_names:\n",
    "        try:\n",
    "            shutil.move(os.path.join(source_dir, file_name), target_dir)\n",
    "        except Exception as e:\n",
    "            print(e,'at',file_name)\n",
    "\n"
   ],
   "metadata": {
    "collapsed": false,
    "pycharm": {
     "name": "#%%\n"
    }
   }
  },
  {
   "cell_type": "code",
   "execution_count": 3,
   "outputs": [],
   "source": [
    "# colab_download('model',True)"
   ],
   "metadata": {
    "collapsed": false,
    "pycharm": {
     "name": "#%%\n"
    }
   }
  },
  {
   "cell_type": "code",
   "execution_count": 4,
   "outputs": [],
   "source": [
    "# 上免那个不起作用\n",
    "\n",
    "# !pip install -r requirements.txt"
   ],
   "metadata": {
    "collapsed": false,
    "pycharm": {
     "name": "#%%\n"
    }
   }
  },
  {
   "cell_type": "code",
   "execution_count": 2,
   "outputs": [],
   "source": [
    "import json\n",
    "\n",
    "import numpy as np\n",
    "\n",
    "# record start time\n",
    "import pandas as pd\n",
    "import torch\n",
    "from IPython.core.display import display\n",
    "from keras import layers\n",
    "# residual block\n",
    "# https://stackoverflow.com/questions/64792460/how-to-code-a-residual-block-using-two-layers-of-a-basic-cnn-algorithm-built-wit\n",
    "from tensorflow import keras\n",
    "import tensorflow as tf\n",
    "import matplotlib.pyplot as plt\n",
    "from torch.utils.data import DataLoader\n",
    "\n",
    "from general_model.grow_numpy import GrowableNumpyArray\n",
    "from general_model.list_batch_loader import ListBatchLoadDataset\n",
    "from model_helper.single_gpu_dataloader import SingleGpuTensorWrapper\n",
    "from pytorch_regression.regression_params import RegressionParams\n",
    "from tool import ml, wine_tool, data_loader, wine_data_loader\n",
    "from tool.dbg import dbg"
   ],
   "metadata": {
    "collapsed": false,
    "pycharm": {
     "name": "#%%\n"
    }
   }
  },
  {
   "cell_type": "code",
   "execution_count": 3,
   "outputs": [
    {
     "name": "stdout",
     "output_type": "stream",
     "text": [
      "No GPU found\n",
      "Num GPUs Available:  0\n"
     ]
    }
   ],
   "source": [
    "if tf.test.gpu_device_name():\n",
    "    print('GPU found')\n",
    "else:\n",
    "    print(\"No GPU found\")\n",
    "print(\"Num GPUs Available: \", len(tf.config.list_physical_devices('GPU')))\n"
   ],
   "metadata": {
    "collapsed": false,
    "pycharm": {
     "name": "#%%\n"
    }
   }
  },
  {
   "cell_type": "code",
   "execution_count": 4,
   "outputs": [
    {
     "name": "stderr",
     "output_type": "stream",
     "text": [
      "D:\\miniconda\\envs\\tf_gpu\\lib\\site-packages\\ipykernel_launcher.py:17: DeprecationWarning: `np.float` is a deprecated alias for the builtin `float`. To silence this warning, use `float` by itself. Doing this will not modify any behavior and is safe. If you specifically wanted the numpy scalar type, use `np.float64` here.\n",
      "Deprecated in NumPy 1.20; for more details and guidance: https://numpy.org/devdocs/release/1.20.0-notes.html#deprecations\n",
      "D:\\miniconda\\envs\\tf_gpu\\lib\\site-packages\\ipykernel_launcher.py:18: DeprecationWarning: `np.float` is a deprecated alias for the builtin `float`. To silence this warning, use `float` by itself. Doing this will not modify any behavior and is safe. If you specifically wanted the numpy scalar type, use `np.float64` here.\n",
      "Deprecated in NumPy 1.20; for more details and guidance: https://numpy.org/devdocs/release/1.20.0-notes.html#deprecations\n"
     ]
    },
    {
     "name": "stdout",
     "output_type": "stream",
     "text": [
      "酒精\n",
      "{'name': '#1', 'degree': 70.5}\n",
      "{'name': '#2', 'degree': 62.04}\n",
      "{'name': '#3', 'degree': 55.84}\n",
      "{'name': '#4', 'degree': 50.25}\n",
      "{'name': '#5', 'degree': 45.23}\n",
      "{'name': '#6', 'degree': 37.99}\n",
      "{'name': '#7', 'degree': 30.39}\n",
      "{'name': '#8', 'degree': 21.27}\n",
      "{'name': '#9', 'degree': 12.76}\n",
      "{'name': '#10', 'degree': 7.66}\n",
      "{'name': '#11', 'degree': 1.53}\n",
      "国之娇子\n",
      "{'name': '#1', 'degree': 50.88}\n",
      "{'name': '#2', 'degree': 47.83}\n",
      "{'name': '#3', 'degree': 44.96}\n",
      "{'name': '#4', 'degree': 41.36}\n",
      "{'name': '#5', 'degree': 37.22}\n",
      "{'name': '#6', 'degree': 33.5}\n",
      "{'name': '#7', 'degree': 26.8}\n",
      "{'name': '#8', 'degree': 19.3}\n",
      "{'name': '#9', 'degree': 11.58}\n",
      "{'name': '#10', 'degree': 6.95}\n",
      "北京二锅头\n",
      "威海卫烧锅\n",
      "丁香情\n",
      "原浆\n",
      "北大仓\n",
      "苦芥\n",
      "五粮情\n",
      "not exists: data4/#13\n",
      "景芝白干\n",
      "衡水老白干\n",
      "老酒壶\n",
      "牛栏山陈酿\n",
      "杜二酒\n",
      "小郎酒\n",
      "闷倒驴\n",
      "not exists: data4/#14\n",
      "牛栏山二锅头\n",
      "not exists: data4/#15\n"
     ]
    },
    {
     "data": {
      "text/plain": "<Figure size 432x288 with 1 Axes>",
      "image/png": "[encoded data removed]"
     },
     "metadata": {
      "needs_background": "light"
     },
     "output_type": "display_data"
    },
    {
     "data": {
      "text/plain": "<Figure size 432x288 with 1 Axes>",
      "image/png": "[encoded data removed]"
     },
     "metadata": {
      "needs_background": "light"
     },
     "output_type": "display_data"
    },
    {
     "data": {
      "text/plain": "<Figure size 432x288 with 1 Axes>",
      "image/png": "[encoded data removed]"
     },
     "metadata": {
      "needs_background": "light"
     },
     "output_type": "display_data"
    },
    {
     "name": "stdout",
     "output_type": "stream",
     "text": [
      "(2100, 1000) (2100,)\n"
     ]
    }
   ],
   "source": [
    "wine_json = ml.read_json(\"Wine.json\")\n",
    "\n",
    "\n",
    "class RegressionTrainer:\n",
    "    def __init__(self):\n",
    "        self.param = RegressionParams()\n",
    "        self.param.batch_size = 64\n",
    "        self.param.epoch = 1\n",
    "        self.param.lr = 1e-9\n",
    "        self.param.cnn_stride = 1\n",
    "        self.param.cnn_size = 3\n",
    "        self.param.pool_size = 2\n",
    "        self.param.lr_decay = 0.99\n",
    "\n",
    "    def load(self):\n",
    "\n",
    "        self.x = GrowableNumpyArray(dtype=np.float, grow_speed=16)\n",
    "        self.y = GrowableNumpyArray(dtype=np.float, grow_speed=16)\n",
    "\n",
    "        for wine in wine_json:\n",
    "            base_wine_path = 'data4/' + wine['id']\n",
    "            dbg(wine['name'])\n",
    "            if not os.path.exists(base_wine_path):\n",
    "                dbg('not exists:', base_wine_path)\n",
    "                continue\n",
    "            # load data\n",
    "            dirs = ml.getAllFiles(f'{base_wine_path}')\n",
    "            for d in dirs:\n",
    "                path = d\n",
    "                files = ml.getAllFileRecursively(path)\n",
    "                for f in files:\n",
    "                    self.x.update(wine_tool.col2data_to_float_list(f))\n",
    "                    self.y.add(wine['degree'])\n",
    "                    # self.x = np.append(self.x, wine_tool.col2data_to_float_list(f))\n",
    "                    # self.y = np.append(self.y, wine['degree'])\n",
    "\n",
    "            # load item_data\n",
    "            for wine_item in wine['items']:\n",
    "                sub_wine_path = base_wine_path + '_' + wine_item['name']\n",
    "\n",
    "                dirs = ml.getAllFiles(f'{sub_wine_path}')\n",
    "                dbg(wine_item)\n",
    "                for d in dirs:\n",
    "                    path = d\n",
    "                    files = ml.getAllFileRecursively(path)\n",
    "                    for f in files[:100]:\n",
    "                        self.x.update(wine_tool.col2data_to_float_list(f))\n",
    "                        self.y.add(wine_item['degree'])\n",
    "                        # self.x = np.append(self.x, wine_tool.col2data_to_float_list(f))\n",
    "                        # self.y = np.append(self.y, wine_item['degree'])\n",
    "\n",
    "        self.x = self.x.finalize()\n",
    "        self.x = self.x.reshape((-1, 1000))\n",
    "\n",
    "        self.y = self.y.finalize()\n",
    "\n",
    "        plt.plot(sorted(self.y))\n",
    "        plt.plot(self.y)\n",
    "\n",
    "        # normalize\n",
    "\n",
    "        self.y = self.y / 100\n",
    "\n",
    "        layer_normed_x = torch.nn.LayerNorm([1000])(torch.tensor(self.x, dtype=torch.float))\n",
    "        i = 0\n",
    "        while i < 3:\n",
    "            indice = i\n",
    "            plt.plot(layer_normed_x[indice].detach().numpy(), label=self.y[indice])\n",
    "            plt.legend()\n",
    "            plt.show()\n",
    "            i += 1\n",
    "\n",
    "        self.x, self.y, self.x1, self.y1 = wine_data_loader.split(self.x, self.y, 1 - self.param.train_test_split)\n",
    "\n",
    "        # wine_dataset = ListBatchLoadDataset(self.x.tensor, self.y.tensor)\n",
    "        # self.dataloader = DataLoader(wine_dataset, batch_size=self.param.batch_size,\n",
    "        #                         shuffle=True, num_workers=0)\n",
    "\n",
    "\n",
    "trainer = RegressionTrainer()\n",
    "trainer.load()\n",
    "dbg(trainer.x.shape, trainer.y.shape)"
   ],
   "metadata": {
    "collapsed": false,
    "pycharm": {
     "name": "#%%\n"
    }
   }
  },
  {
   "cell_type": "code",
   "execution_count": 5,
   "outputs": [],
   "source": [
    "tf.debugging.set_log_device_placement(False)"
   ],
   "metadata": {
    "collapsed": false,
    "pycharm": {
     "name": "#%%\n"
    }
   }
  },
  {
   "cell_type": "markdown",
   "source": [
    "多层Dense模型"
   ],
   "metadata": {
    "collapsed": false,
    "pycharm": {
     "name": "#%% md\n"
    }
   }
  },
  {
   "cell_type": "code",
   "execution_count": 6,
   "outputs": [],
   "source": [
    "\n",
    "# act = 'tanh'\n",
    "# # inp = __next = layers.Input(shape=[1280 * 720*10], name='input')\n",
    "# inp = __next = layers.Input(shape=[1000], name='input')\n",
    "# __next = layers.Dense(800, activation=act)(__next)\n",
    "# __next = layers.Dense(800, activation=act)(__next)\n",
    "# __next = layers.Dense(800, activation=act)(__next)\n",
    "# __next = layers.Dense(104, activation=act)(__next)\n",
    "# __next = layers.Dense(10, activation=act)(__next)\n",
    "# output = __next = layers.Dense(1, )(__next)\n",
    "# model = keras.Model(inputs=[inp], outputs=[output])\n",
    "# model.summary()\n",
    "# # opt = tf.keras.optimizers.Adam(lr=1e-4)\n",
    "# opt = tf.keras.optimizers.Adam(lr=1e-6)\n",
    "# model.compile(\n",
    "#     optimizer=opt,\n",
    "#     # optimizer='adam',\n",
    "#     loss='mse',\n",
    "# )"
   ],
   "metadata": {
    "collapsed": false,
    "pycharm": {
     "name": "#%%\n"
    }
   }
  },
  {
   "cell_type": "code",
   "execution_count": 7,
   "outputs": [
    {
     "name": "stdout",
     "output_type": "stream",
     "text": [
      "Model: \"model\"\n",
      "_________________________________________________________________\n",
      " Layer (type)                Output Shape              Param #   \n",
      "=================================================================\n",
      " input (InputLayer)          [(None, 1000)]            0         \n",
      "                                                                 \n",
      " reshape (Reshape)           (None, 1000, 1)           0         \n",
      "                                                                 \n",
      " conv1d (Conv1D)             (None, 998, 2)            8         \n",
      "                                                                 \n",
      " max_pooling1d (MaxPooling1D  (None, 499, 2)           0         \n",
      " )                                                               \n",
      "                                                                 \n",
      " activation (Activation)     (None, 499, 2)            0         \n",
      "                                                                 \n",
      " conv1d_1 (Conv1D)           (None, 497, 2)            14        \n",
      "                                                                 \n",
      " max_pooling1d_1 (MaxPooling  (None, 248, 2)           0         \n",
      " 1D)                                                             \n",
      "                                                                 \n",
      " activation_1 (Activation)   (None, 248, 2)            0         \n",
      "                                                                 \n",
      " conv1d_2 (Conv1D)           (None, 246, 16)           112       \n",
      "                                                                 \n",
      " max_pooling1d_2 (MaxPooling  (None, 123, 16)          0         \n",
      " 1D)                                                             \n",
      "                                                                 \n",
      " activation_2 (Activation)   (None, 123, 16)           0         \n",
      "                                                                 \n",
      " conv1d_3 (Conv1D)           (None, 121, 16)           784       \n",
      "                                                                 \n",
      " max_pooling1d_3 (MaxPooling  (None, 60, 16)           0         \n",
      " 1D)                                                             \n",
      "                                                                 \n",
      " activation_3 (Activation)   (None, 60, 16)            0         \n",
      "                                                                 \n",
      " conv1d_4 (Conv1D)           (None, 58, 64)            3136      \n",
      "                                                                 \n",
      " max_pooling1d_4 (MaxPooling  (None, 29, 64)           0         \n",
      " 1D)                                                             \n",
      "                                                                 \n",
      " activation_4 (Activation)   (None, 29, 64)            0         \n",
      "                                                                 \n",
      " conv1d_5 (Conv1D)           (None, 27, 64)            12352     \n",
      "                                                                 \n",
      " max_pooling1d_5 (MaxPooling  (None, 13, 64)           0         \n",
      " 1D)                                                             \n",
      "                                                                 \n",
      " activation_5 (Activation)   (None, 13, 64)            0         \n",
      "                                                                 \n",
      " flatten (Flatten)           (None, 832)               0         \n",
      "                                                                 \n",
      " dense (Dense)               (None, 1)                 833       \n",
      "                                                                 \n",
      "=================================================================\n",
      "Total params: 17,239\n",
      "Trainable params: 17,239\n",
      "Non-trainable params: 0\n",
      "_________________________________________________________________\n"
     ]
    },
    {
     "name": "stderr",
     "output_type": "stream",
     "text": [
      "D:\\miniconda\\envs\\tf_gpu\\lib\\site-packages\\keras\\optimizer_v2\\adam.py:105: UserWarning: The `lr` argument is deprecated, use `learning_rate` instead.\n",
      "  super(Adam, self).__init__(name, **kwargs)\n"
     ]
    }
   ],
   "source": [
    "act = 'tanh'\n",
    "config = [\n",
    "    ('conv', 2, 3),\n",
    "    ('pool', 2),\n",
    "    ('activation',act),\n",
    "    ('conv', 2, 3),\n",
    "    ('pool', 2),\n",
    "    ('activation',act),\n",
    "\n",
    "    ('conv', 16, 3),\n",
    "    ('pool', 2),\n",
    "    ('activation',act),\n",
    "\n",
    "    (\"conv\", 16, 3),\n",
    "    ('pool', 2),\n",
    "    ('activation',act),\n",
    "\n",
    "    (\"conv\", 64, 3),\n",
    "    ('pool', 2),\n",
    "    ('activation',act),\n",
    "\n",
    "    (\"conv\", 64, 3),\n",
    "    ('pool', 2),\n",
    "    ('activation',act),\n",
    "\n",
    "]\n",
    "# inp = __next = layers.Input(shape=[1280 * 720*10], name='input')\n",
    "inp = __next = layers.Input(shape=[1000], name='input')\n",
    "__next = layers.Reshape(target_shape=[1000, 1], name='reshape')(__next)\n",
    "\n",
    "for c in config:\n",
    "    if c[0] == 'conv':\n",
    "        __next = layers.Conv1D(filters=c[1], kernel_size=c[2])(__next)\n",
    "    elif c[0] == 'pool':\n",
    "        __next = layers.MaxPool1D(pool_size=c[1])(__next)\n",
    "    elif c[0] == 'activation':\n",
    "        __next = layers.Activation(c[1])(__next)\n",
    "\n",
    "__next = layers.Flatten()(__next)\n",
    "output = __next = layers.Dense(1, )(__next)\n",
    "model = keras.Model(inputs=[inp], outputs=[output])\n",
    "model.summary()\n",
    "# opt = tf.keras.optimizers.Adam(lr=1e-4)\n",
    "opt = tf.keras.optimizers.Adam(lr=1e-6)\n",
    "model.compile(\n",
    "    optimizer=opt,\n",
    "    # optimizer='adam',\n",
    "    loss='mse',\n",
    ")"
   ],
   "metadata": {
    "collapsed": false,
    "pycharm": {
     "name": "#%%\n"
    }
   }
  },
  {
   "cell_type": "code",
   "execution_count": 8,
   "outputs": [
    {
     "name": "stdout",
     "output_type": "stream",
     "text": [
      "Epoch 1/5\n",
      "66/66 [==============================] - 1s 8ms/step - loss: 0.1899\b\b\b\b\b\b\b\b\b\b\b\b\b\b\b\b\b\b\b\b\b\b\b\b\b\b\b\b\b\b\b\b\b\b\b\b\b\b\b\b\b\b\b\b\b\b\b\b\b\b\b\b\b\b\b\b\b\b\b\b\b\b\b\b\b\b\b\b\b\b\b\b\b\b\b\b\b\b\b\b\b\b\b\b\b\b\b\b\b\b\b\b\b\b\b\b\b\b\b\b\b\b\b\b\b\b\b\b\b\b\b\b\b\b\b\b\b\b\b\b\b\b\b\b\b\b\b\b\b\b\b\b\b\b\b\b\b\b\b\b\b\b\b\b\b\b\b\b\b\b\b\b\b\b\b\b\b\b\b\b\b\b\b\b\b\b\b\b\b\b\b\b\b\b\b\b\b\b\b\b\b\b\b\b\b\b\b\b\b\b\b\b\b\b\b\b\b\b\b\b\b\b\b\b\b\b\b\b\b\b\b\b\b\b\b\b\b\b\b\b\b\b\b\b\b\b\b\b\b\b\b\b\b\b\b\b\b\b\b\b\b\b\b\b\b\b\b\b\b\b\b\b\b\b\b\b\b\b\b\b\b\b\b\b\b\b\b\b\b\b\b\b\b\b\b\b\b\b\b\b\b\b\b\b\b\b\b\b\b\b\b\b\b\b\b\b\b\b\b\b\b\b\b\b\b\b\b\b\b\b\b\b\b\b\b\b\b\b\b\b\b\b\b\b\b\b\b\b\b\b\b\b\b\b\b\b\b\b\b\b\b\b\b\b\b\b\b\b\b\b\b\b\b\b\b\b\b\b\b\b\b\b\b\b\b\b\b\b\b\b\b\b\b\b\b\b\b\b\b\b\b\b\b\b\b\b\b\b\b\b\b\b\b\b\b\b\b\b\b\b\b\b\b\b\b\b\b\b\b\b\b\b\b\b\b\b\b\b\b\b\b\b\b\b\b\b\b\b\b\b\b\b\b\b\b\b\b\b\b\b\b\b\b\b\b\b\b\b\b\b\b\b\b\b\b\b\b\b\b\b\b\b\b\b\b\b\b\b\b\b\b\b\b\b\b\b\b\b\b\b\b\b\b\b\b\b\b\b\b\b\b\b\b\b\b\b\b\b\b\b\b\b\b\b\b\b\b\b\b\b\b\b\b\b\b\b\b\b\b\b\b\b\b\b\b\b\b\b\b\b\b\b\b\b\b\b\b\b\b\b\b\b\b\b\b\b\b\b\b\b\b\b\b\b\b\b\b\b\b\b\b\b\b\b\b\b\b\b\b\b\b\b\b\b\b\b\b\b\b\b\b\b\b\b\b\b\b\b\b\b\b\b\b\b\b\b\b\b\b\b\b\b\b\b\b\b\b\b\b\b\b\b\b\b\b\b\b\b\b\b\b\b\b\b\b\b\b\b\b\b\b\b\b\b\b\b\b\b\b\b\b\b\b\b\b\b\b\b\b\b\b\b\b\b\b\b\b\b\b\b\b\b\b\b\b\b\b\b\b\b\b\b\b\b\b\b\b\b\b\b\b\b\b\b\b\b\b\b\b\b\b\n",
      "Epoch 2/5\n",
      "66/66 [==============================] - 1s 9ms/step - loss: 0.1616\b\b\b\b\b\b\b\b\b\b\b\b\b\b\b\b\b\b\b\b\b\b\b\b\b\b\b\b\b\b\b\b\b\b\b\b\b\b\b\b\b\b\b\b\b\b\b\b\b\b\b\b\b\b\b\b\b\b\b\b\b\b\b\b\b\b\b\b\b\b\b\b\b\b\b\b\b\b\b\b\b\b\b\b\b\b\b\b\b\b\b\b\b\b\b\b\b\b\b\b\b\b\b\b\b\b\b\b\b\b\b\b\b\b\b\b\b\b\b\b\b\b\b\b\b\b\b\b\b\b\b\b\b\b\b\b\b\b\b\b\b\b\b\b\b\b\b\b\b\b\b\b\b\b\b\b\b\b\b\b\b\b\b\b\b\b\b\b\b\b\b\b\b\b\b\b\b\b\b\b\b\b\b\b\b\b\b\b\b\b\b\b\b\b\b\b\b\b\b\b\b\b\b\b\b\b\b\b\b\b\b\b\b\b\b\b\b\b\b\b\b\b\b\b\b\b\b\b\b\b\b\b\b\b\b\b\b\b\b\b\b\b\b\b\b\b\b\b\b\b\b\b\b\b\b\b\b\b\b\b\b\b\b\b\b\b\b\b\b\b\b\b\b\b\b\b\b\b\b\b\b\b\b\b\b\b\b\b\b\b\b\b\b\b\b\b\b\b\b\b\b\b\b\b\b\b\b\b\b\b\b\b\b\b\b\b\b\b\b\b\b\b\b\b\b\b\b\b\b\b\b\b\b\b\b\b\b\b\b\b\b\b\b\b\b\b\b\b\b\b\b\b\b\b\b\b\b\b\b\b\b\b\b\b\b\b\b\b\b\b\b\b\b\b\b\b\b\b\b\b\b\b\b\b\b\b\b\b\b\b\b\b\b\b\b\b\b\b\b\b\b\b\b\b\b\b\b\b\b\b\b\b\b\b\b\b\b\b\b\b\b\b\b\b\b\b\b\b\b\b\b\b\b\b\b\b\b\b\b\b\b\b\b\b\b\b\b\b\b\b\b\b\b\b\b\b\b\b\b\b\b\b\b\b\b\b\b\b\b\b\b\b\b\b\b\b\b\b\b\b\b\b\b\b\b\b\b\b\b\b\b\b\b\b\b\b\b\b\b\b\b\b\b\b\b\b\b\b\b\b\b\b\b\b\b\b\b\b\b\b\b\b\b\b\b\b\b\b\b\b\b\b\b\b\b\b\b\b\b\b\b\b\b\b\b\b\b\b\b\b\b\b\b\b\b\b\b\b\b\b\b\b\b\b\b\b\b\b\b\b\b\b\b\b\b\b\b\b\b\b\b\b\b\b\b\b\b\b\b\b\b\b\b\b\b\b\b\b\b\b\b\b\b\b\b\b\b\b\b\b\b\b\b\b\b\b\b\b\b\b\b\b\b\b\b\b\b\b\b\b\b\b\b\b\b\b\b\b\b\b\b\b\b\b\b\b\b\b\b\b\b\b\b\b\b\b\b\b\b\b\b\b\b\b\b\b\b\b\b\b\b\b\b\b\b\b\b\b\b\b\b\b\b\b\b\b\b\b\b\n",
      "Epoch 3/5\n",
      "66/66 [==============================] - 1s 8ms/step - loss: 0.1373\b\b\b\b\b\b\b\b\b\b\b\b\b\b\b\b\b\b\b\b\b\b\b\b\b\b\b\b\b\b\b\b\b\b\b\b\b\b\b\b\b\b\b\b\b\b\b\b\b\b\b\b\b\b\b\b\b\b\b\b\b\b\b\b\b\b\b\b\b\b\b\b\b\b\b\b\b\b\b\b\b\b\b\b\b\b\b\b\b\b\b\b\b\b\b\b\b\b\b\b\b\b\b\b\b\b\b\b\b\b\b\b\b\b\b\b\b\b\b\b\b\b\b\b\b\b\b\b\b\b\b\b\b\b\b\b\b\b\b\b\b\b\b\b\b\b\b\b\b\b\b\b\b\b\b\b\b\b\b\b\b\b\b\b\b\b\b\b\b\b\b\b\b\b\b\b\b\b\b\b\b\b\b\b\b\b\b\b\b\b\b\b\b\b\b\b\b\b\b\b\b\b\b\b\b\b\b\b\b\b\b\b\b\b\b\b\b\b\b\b\b\b\b\b\b\b\b\b\b\b\b\b\b\b\b\b\b\b\b\b\b\b\b\b\b\b\b\b\b\b\b\b\b\b\b\b\b\b\b\b\b\b\b\b\b\b\b\b\b\b\b\b\b\b\b\b\b\b\b\b\b\b\b\b\b\b\b\b\b\b\b\b\b\b\b\b\b\b\b\b\b\b\b\b\b\b\b\b\b\b\b\b\b\b\b\b\b\b\b\b\b\b\b\b\b\b\b\b\b\b\b\b\b\b\b\b\b\b\b\b\b\b\b\b\b\b\b\b\b\b\b\b\b\b\b\b\b\b\b\b\b\b\b\b\b\b\b\b\b\b\b\b\b\b\b\b\b\b\b\b\b\b\b\b\b\b\b\b\b\b\b\b\b\b\b\b\b\b\b\b\b\b\b\b\b\b\b\b\b\b\b\b\b\b\b\b\b\b\b\b\b\b\b\b\b\b\b\b\b\b\b\b\b\b\b\b\b\b\b\b\b\b\b\b\b\b\b\b\b\b\b\b\b\b\b\b\b\b\b\b\b\b\b\b\b\b\b\b\b\b\b\b\b\b\b\b\b\b\b\b\b\b\b\b\b\b\b\b\b\b\b\b\b\b\b\b\b\b\b\b\b\b\b\b\b\b\b\b\b\b\b\b\b\b\b\b\b\b\b\b\b\b\b\b\b\b\b\b\b\b\b\b\b\b\b\b\b\b\b\b\b\b\b\b\b\b\b\b\b\b\b\b\b\b\b\b\b\b\b\b\b\b\b\b\b\b\b\b\b\b\b\b\b\b\b\b\b\b\b\b\b\b\b\b\b\b\b\b\b\b\b\b\b\b\b\b\b\b\b\b\b\b\b\b\b\b\b\b\b\b\b\b\b\b\b\b\b\b\b\b\b\b\b\b\b\b\b\b\b\b\b\b\b\b\b\b\b\b\b\b\b\b\b\b\b\b\b\b\b\b\b\b\b\b\b\b\b\b\b\b\b\b\b\b\b\b\b\b\b\b\b\b\b\b\b\b\b\b\b\b\b\b\b\b\b\b\b\b\b\n",
      "Epoch 4/5\n",
      "66/66 [==============================] - 1s 9ms/step - loss: 0.1165\b\b\b\b\b\b\b\b\b\b\b\b\b\b\b\b\b\b\b\b\b\b\b\b\b\b\b\b\b\b\b\b\b\b\b\b\b\b\b\b\b\b\b\b\b\b\b\b\b\b\b\b\b\b\b\b\b\b\b\b\b\b\b\b\b\b\b\b\b\b\b\b\b\b\b\b\b\b\b\b\b\b\b\b\b\b\b\b\b\b\b\b\b\b\b\b\b\b\b\b\b\b\b\b\b\b\b\b\b\b\b\b\b\b\b\b\b\b\b\b\b\b\b\b\b\b\b\b\b\b\b\b\b\b\b\b\b\b\b\b\b\b\b\b\b\b\b\b\b\b\b\b\b\b\b\b\b\b\b\b\b\b\b\b\b\b\b\b\b\b\b\b\b\b\b\b\b\b\b\b\b\b\b\b\b\b\b\b\b\b\b\b\b\b\b\b\b\b\b\b\b\b\b\b\b\b\b\b\b\b\b\b\b\b\b\b\b\b\b\b\b\b\b\b\b\b\b\b\b\b\b\b\b\b\b\b\b\b\b\b\b\b\b\b\b\b\b\b\b\b\b\b\b\b\b\b\b\b\b\b\b\b\b\b\b\b\b\b\b\b\b\b\b\b\b\b\b\b\b\b\b\b\b\b\b\b\b\b\b\b\b\b\b\b\b\b\b\b\b\b\b\b\b\b\b\b\b\b\b\b\b\b\b\b\b\b\b\b\b\b\b\b\b\b\b\b\b\b\b\b\b\b\b\b\b\b\b\b\b\b\b\b\b\b\b\b\b\b\b\b\b\b\b\b\b\b\b\b\b\b\b\b\b\b\b\b\b\b\b\b\b\b\b\b\b\b\b\b\b\b\b\b\b\b\b\b\b\b\b\b\b\b\b\b\b\b\b\b\b\b\b\b\b\b\b\b\b\b\b\b\b\b\b\b\b\b\b\b\b\b\b\b\b\b\b\b\b\b\b\b\b\b\b\b\b\b\b\b\b\b\b\b\b\b\b\b\b\b\b\b\b\b\b\b\b\b\b\b\b\b\b\b\b\b\b\b\b\b\b\b\b\b\b\b\b\b\b\b\b\b\b\b\b\b\b\b\b\b\b\b\b\b\b\b\b\b\b\b\b\b\b\b\b\b\b\b\b\b\b\b\b\b\b\b\b\b\b\b\b\b\b\b\b\b\b\b\b\b\b\b\b\b\b\b\b\b\b\b\b\b\b\b\b\b\b\b\b\b\b\b\b\b\b\b\b\b\b\b\b\b\b\b\b\b\b\b\b\b\b\b\b\b\b\b\b\b\b\b\b\b\b\b\b\b\b\b\b\b\b\b\b\b\b\b\b\b\b\b\b\b\b\b\b\b\b\b\b\b\b\b\b\b\b\b\b\b\b\b\b\b\b\b\b\b\b\b\b\b\b\b\b\b\b\b\b\b\b\b\b\b\b\b\b\b\b\b\b\b\b\b\b\b\b\b\b\b\b\b\b\b\b\b\b\b\b\b\b\b\b\b\b\b\b\b\b\b\b\b\b\b\b\b\b\b\b\b\b\b\b\n",
      "Epoch 5/5\n",
      "66/66 [==============================] - 1s 8ms/step - loss: 0.0990\b\b\b\b\b\b\b\b\b\b\b\b\b\b\b\b\b\b\b\b\b\b\b\b\b\b\b\b\b\b\b\b\b\b\b\b\b\b\b\b\b\b\b\b\b\b\b\b\b\b\b\b\b\b\b\b\b\b\b\b\b\b\b\b\b\b\b\b\b\b\b\b\b\b\b\b\b\b\b\b\b\b\b\b\b\b\b\b\b\b\b\b\b\b\b\b\b\b\b\b\b\b\b\b\b\b\b\b\b\b\b\b\b\b\b\b\b\b\b\b\b\b\b\b\b\b\b\b\b\b\b\b\b\b\b\b\b\b\b\b\b\b\b\b\b\b\b\b\b\b\b\b\b\b\b\b\b\b\b\b\b\b\b\b\b\b\b\b\b\b\b\b\b\b\b\b\b\b\b\b\b\b\b\b\b\b\b\b\b\b\b\b\b\b\b\b\b\b\b\b\b\b\b\b\b\b\b\b\b\b\b\b\b\b\b\b\b\b\b\b\b\b\b\b\b\b\b\b\b\b\b\b\b\b\b\b\b\b\b\b\b\b\b\b\b\b\b\b\b\b\b\b\b\b\b\b\b\b\b\b\b\b\b\b\b\b\b\b\b\b\b\b\b\b\b\b\b\b\b\b\b\b\b\b\b\b\b\b\b\b\b\b\b\b\b\b\b\b\b\b\b\b\b\b\b\b\b\b\b\b\b\b\b\b\b\b\b\b\b\b\b\b\b\b\b\b\b\b\b\b\b\b\b\b\b\b\b\b\b\b\b\b\b\b\b\b\b\b\b\b\b\b\b\b\b\b\b\b\b\b\b\b\b\b\b\b\b\b\b\b\b\b\b\b\b\b\b\b\b\b\b\b\b\b\b\b\b\b\b\b\b\b\b\b\b\b\b\b\b\b\b\b\b\b\b\b\b\b\b\b\b\b\b\b\b\b\b\b\b\b\b\b\b\b\b\b\b\b\b\b\b\b\b\b\b\b\b\b\b\b\b\b\b\b\b\b\b\b\b\b\b\b\b\b\b\b\b\b\b\b\b\b\b\b\b\b\b\b\b\b\b\b\b\b\b\b\b\b\b\b\b\b\b\b\b\b\b\b\b\b\b\b\b\b\b\b\b\b\b\b\b\b\b\b\b\b\b\b\b\b\b\b\b\b\b\b\b\b\b\b\b\b\b\b\b\b\b\b\b\b\b\b\b\b\b\b\b\b\b\b\b\b\b\b\b\b\b\b\b\b\b\b\b\b\b\b\b\b\b\b\b\b\b\b\b\b\b\b\b\b\b\b\b\b\b\b\b\b\b\b\b\b\b\b\b\b\b\b\b\b\b\b\b\b\b\b\b\b\b\b\b\b\b\b\b\b\b\b\b\b\b\b\b\b\b\b\b\b\b\b\b\b\b\b\b\b\b\b\b\b\b\b\b\b\b\b\b\b\b\b\b\b\b\b\b\b\b\b\b\b\b\b\b\b\b\b\b\b\b\b\b\b\b\b\b\b\b\b\b\b\b\b\b\b\b\b\b\b\b\b\b\b\b\b\b\b\b\b\b\n"
     ]
    }
   ],
   "source": [
    "history = model.fit(trainer.x, trainer.y,\n",
    "                    # validation_data=(X_test, Y_test)\n",
    "                    # epochs=50,\n",
    "                    # epochs=100,\n",
    "                    epochs=5,\n",
    "                    # epochs=300,\n",
    "                    )"
   ],
   "metadata": {
    "collapsed": false,
    "pycharm": {
     "name": "#%%\n"
    }
   }
  },
  {
   "cell_type": "code",
   "execution_count": 12,
   "outputs": [
    {
     "data": {
      "text/plain": "{'loss': [0.1898978352546692,\n  0.1616472601890564,\n  0.1373050957918167,\n  0.11654128134250641,\n  0.0990111455321312]}"
     },
     "execution_count": 12,
     "metadata": {},
     "output_type": "execute_result"
    }
   ],
   "source": [
    "history.history"
   ],
   "metadata": {
    "collapsed": false,
    "pycharm": {
     "name": "#%%\n"
    }
   }
  },
  {
   "cell_type": "code",
   "execution_count": 18,
   "outputs": [
    {
     "data": {
      "text/plain": "<Figure size 576x360 with 1 Axes>",
      "image/png": "[encoded data removed]"
     },
     "metadata": {
      "needs_background": "light"
     },
     "output_type": "display_data"
    },
    {
     "data": {
      "text/plain": "               0         1         2        3         4         5        6   \\\npredict  0.158034  0.152612  0.152895  0.15293  0.182931  0.150951  0.15293   \ntruth    0.076600  0.530000  0.558400  0.53000  0.212700  0.450000  0.50880   \ndiff     0.081434 -0.377388 -0.405505 -0.37707 -0.029769 -0.299049 -0.35587   \n\n               7         8         9         10       11        12        13  \\\npredict  0.157165  0.152612  0.155647  0.156957  0.15293  0.171545  0.154219   \ntruth    0.372200  0.450000  0.478300  0.750000  0.50880  0.420000  0.550000   \ndiff    -0.215035 -0.297388 -0.322653 -0.593043 -0.35587 -0.248455 -0.395781   \n\n              14  \npredict  0.15293  \ntruth    0.53000  \ndiff    -0.37707  ",
      "text/html": "<div>\n<style scoped>\n    .dataframe tbody tr th:only-of-type {\n        vertical-align: middle;\n    }\n\n    .dataframe tbody tr th {\n        vertical-align: top;\n    }\n\n    .dataframe thead th {\n        text-align: right;\n    }\n</style>\n<table border=\"1\" class=\"dataframe\">\n  <thead>\n    <tr style=\"text-align: right;\">\n      <th></th>\n      <th>0</th>\n      <th>1</th>\n      <th>2</th>\n      <th>3</th>\n      <th>4</th>\n      <th>5</th>\n      <th>6</th>\n      <th>7</th>\n      <th>8</th>\n      <th>9</th>\n      <th>10</th>\n      <th>11</th>\n      <th>12</th>\n      <th>13</th>\n      <th>14</th>\n    </tr>\n  </thead>\n  <tbody>\n    <tr>\n      <th>predict</th>\n      <td>0.158034</td>\n      <td>0.152612</td>\n      <td>0.152895</td>\n      <td>0.15293</td>\n      <td>0.182931</td>\n      <td>0.150951</td>\n      <td>0.15293</td>\n      <td>0.157165</td>\n      <td>0.152612</td>\n      <td>0.155647</td>\n      <td>0.156957</td>\n      <td>0.15293</td>\n      <td>0.171545</td>\n      <td>0.154219</td>\n      <td>0.15293</td>\n    </tr>\n    <tr>\n      <th>truth</th>\n      <td>0.076600</td>\n      <td>0.530000</td>\n      <td>0.558400</td>\n      <td>0.53000</td>\n      <td>0.212700</td>\n      <td>0.450000</td>\n      <td>0.50880</td>\n      <td>0.372200</td>\n      <td>0.450000</td>\n      <td>0.478300</td>\n      <td>0.750000</td>\n      <td>0.50880</td>\n      <td>0.420000</td>\n      <td>0.550000</td>\n      <td>0.53000</td>\n    </tr>\n    <tr>\n      <th>diff</th>\n      <td>0.081434</td>\n      <td>-0.377388</td>\n      <td>-0.405505</td>\n      <td>-0.37707</td>\n      <td>-0.029769</td>\n      <td>-0.299049</td>\n      <td>-0.35587</td>\n      <td>-0.215035</td>\n      <td>-0.297388</td>\n      <td>-0.322653</td>\n      <td>-0.593043</td>\n      <td>-0.35587</td>\n      <td>-0.248455</td>\n      <td>-0.395781</td>\n      <td>-0.37707</td>\n    </tr>\n  </tbody>\n</table>\n</div>"
     },
     "metadata": {},
     "output_type": "display_data"
    }
   ],
   "source": [
    "start_indice=(len(history.history[\"loss\"])//2)\n",
    "pd.DataFrame(history.history['loss'][start_indice:]).plot(figsize=(8, 5))\n",
    "# plt.grid(True)\n",
    "# plt.gca().set_ylim(0, 5e-4)\n",
    "plt.show()\n",
    "\n",
    "\n",
    "prediction = model.predict(trainer.x1)\n",
    "dict = {'predict': prediction[:15, 0],\n",
    "        'truth': trainer.y1[:15],\n",
    "        'diff': (prediction[:15, 0] - trainer.y1[:15])\n",
    "        }\n",
    "df = pd.DataFrame(dict)\n",
    "\n",
    "# displaying the DataFrame\n",
    "display(df.T)\n"
   ],
   "metadata": {
    "collapsed": false,
    "pycharm": {
     "name": "#%%\n"
    }
   }
  },
  {
   "cell_type": "code",
   "execution_count": 15,
   "outputs": [
    {
     "data": {
      "text/plain": "73.0"
     },
     "execution_count": 15,
     "metadata": {},
     "output_type": "execute_result"
    }
   ],
   "source": [
    "# 输出误差小于2.5度的百分比\n",
    "dif = prediction.reshape(-1, ) - trainer.y1\n",
    "np.sum((np.abs(dif) < 0.025)) / len(dif) * 100"
   ],
   "metadata": {
    "collapsed": false,
    "pycharm": {
     "name": "#%%\n"
    }
   }
  },
  {
   "cell_type": "code",
   "execution_count": 1,
   "outputs": [
    {
     "ename": "NameError",
     "evalue": "name 'tf' is not defined",
     "output_type": "error",
     "traceback": [
      "\u001B[1;31m---------------------------------------------------------------------------\u001B[0m",
      "\u001B[1;31mNameError\u001B[0m                                 Traceback (most recent call last)",
      "\u001B[1;32m~\\AppData\\Local\\Temp\\ipykernel_7392\\1689367606.py\u001B[0m in \u001B[0;36m<module>\u001B[1;34m\u001B[0m\n\u001B[1;32m----> 1\u001B[1;33m \u001B[0mtf\u001B[0m\u001B[1;33m\u001B[0m\u001B[1;33m\u001B[0m\u001B[0m\n\u001B[0m\u001B[0;32m      2\u001B[0m \u001B[1;33m\u001B[0m\u001B[0m\n",
      "\u001B[1;31mNameError\u001B[0m: name 'tf' is not defined"
     ]
    }
   ],
   "source": [],
   "metadata": {
    "collapsed": false,
    "pycharm": {
     "name": "#%%\n"
    }
   }
  },
  {
   "cell_type": "code",
   "execution_count": 13,
   "outputs": [],
   "source": [],
   "metadata": {
    "collapsed": false,
    "pycharm": {
     "name": "#%%\n"
    }
   }
  }
 ],
 "metadata": {
  "kernelspec": {
   "display_name": "Python 3",
   "language": "python",
   "name": "python3"
  },
  "language_info": {
   "codemirror_mode": {
    "name": "ipython",
    "version": 2
   },
   "file_extension": ".py",
   "mimetype": "text/x-python",
   "name": "python",
   "nbconvert_exporter": "python",
   "pygments_lexer": "ipython2",
   "version": "2.7.6"
  }
 },
 "nbformat": 4,
 "nbformat_minor": 0
}